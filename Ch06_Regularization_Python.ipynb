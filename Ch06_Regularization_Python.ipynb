{
 "cells": [
  {
   "cell_type": "markdown",
   "id": "6d938eb2",
   "metadata": {},
   "source": [
    "# Class Workbook"
   ]
  },
  {
   "cell_type": "markdown",
   "id": "9908fc96",
   "metadata": {},
   "source": [
    "## In class activity"
   ]
  },
  {
   "cell_type": "code",
   "execution_count": 9,
   "id": "7cca5dff",
   "metadata": {
    "kernel": "Python3",
    "tags": [
     "report_cell"
    ]
   },
   "outputs": [],
   "source": [
    "import numpy as np\n",
    "import pandas as pd\n",
    "import math\n",
    "from matplotlib.pyplot import subplots\n",
    "import statsmodels.api as sm\n",
    "from plotnine import *\n",
    "import plotly.express as px\n",
    "import statsmodels.formula.api as smf\n",
    "import matplotlib.pyplot as plt\n",
    "import warnings\n",
    "with warnings.catch_warnings():\n",
    "    warnings.simplefilter(\"ignore\")\n",
    "#import ISLP as islp"
   ]
  },
  {
   "cell_type": "markdown",
   "id": "aacd4cd7",
   "metadata": {},
   "source": [
    "### Ames Housing data\n",
    "\n",
    "Please take a look at the Ames Hoursing data."
   ]
  },
  {
   "cell_type": "code",
   "execution_count": 3,
   "id": "6eab101a",
   "metadata": {
    "kernel": "Python3",
    "tags": [
     "report_cell"
    ]
   },
   "outputs": [],
   "source": [
    "ames_raw=pd.read_csv(\"ames_raw.csv\")"
   ]
  },
  {
   "cell_type": "markdown",
   "id": "ada3706e",
   "metadata": {},
   "source": [
    "### Questions\n",
    "\n",
    "Use data of `ames_raw` up to 2008 predict the housing price for the later years."
   ]
  },
  {
   "cell_type": "code",
   "execution_count": 4,
   "id": "0c071767",
   "metadata": {
    "Rmd_chunk_options": "echo=show_code",
    "kernel": "Python3",
    "tags": [
     "report_cell"
    ]
   },
   "outputs": [],
   "source": [
    "ames_raw_2009, ames_raw_2008= ames_raw.query('`Yr Sold`>=2008').copy(), ames_raw.query('`Yr Sold` <2008').copy()"
   ]
  },
  {
   "cell_type": "markdown",
   "id": "ff838b0e",
   "metadata": {},
   "source": [
    "Use the same loss function calculator."
   ]
  },
  {
   "cell_type": "code",
   "execution_count": 19,
   "id": "ebb37a76",
   "metadata": {
    "Rmd_chunk_options": "echo=show_code",
    "kernel": "Python3",
    "tags": [
     "report_cell"
    ]
   },
   "outputs": [],
   "source": [
    "def calc_loss(prediction,actual):\n",
    "  difpred = actual-prediction\n",
    "  RMSE =pow(difpred.pow(2).mean(),1/2)\n",
    "  operation_loss=abs(sum(difpred[difpred<0]))+sum(0.1*actual[difpred>0])\n",
    "  return RMSE,operation_loss"
   ]
  },
  {
   "cell_type": "markdown",
   "id": "e9942d09",
   "metadata": {},
   "source": [
    "Here are few rules:\n",
    "\n",
    "- You are not allowed to use the test data.\n",
    "- Try 3 of the regularization methods discussed in Ch6.\n",
    "- You should use a resampling method that is most appropriate for choosing the hyper parameters.\n",
    "\n",
    "Your code:"
   ]
  },
  {
   "cell_type": "code",
   "execution_count": 17,
   "id": "c6561c49",
   "metadata": {},
   "outputs": [
    {
     "name": "stdout",
     "output_type": "stream",
     "text": [
      "Lasso coefficients: [ 8.66351908e-01  2.03677415e+04  4.81832505e+03  5.23490227e+02\n",
      "  7.34930467e+01  8.71718953e+01  6.23081501e+01  1.63357737e+01\n",
      "  7.68794941e+00 -4.28318149e+03 -4.45035988e+03 -8.25994148e+03\n",
      " -2.38446835e+04  1.08026556e+03  2.33600044e+03  3.21357472e+01\n",
      " -4.25439549e+01  9.71177867e+00  1.38101552e+01  9.00742142e+01\n",
      " -4.04238252e-01 -1.28012014e+01  3.89621996e+02]\n",
      "Ridge coefficients: [ 8.66678038e-01  2.03686007e+04  4.82253199e+03  5.23832258e+02\n",
      "  7.43567552e+01  4.76031648e+01  2.27754385e+01 -2.31126451e+01\n",
      "  4.72659551e+01 -4.30939589e+03 -4.42024127e+03 -8.24325359e+03\n",
      " -2.32797976e+04  1.03735447e+03  2.36279730e+03  3.21980763e+01\n",
      " -4.24344286e+01  9.74799087e+00  1.39033974e+01  9.01627094e+01\n",
      " -3.74349499e-01 -1.28010760e+01  3.88715033e+02]\n",
      "Elastic Net coefficients: [ 7.68772809e-01  1.32688104e+04  3.83846754e+03  5.97401337e+02\n",
      "  2.29595616e+02  9.58231128e+01  6.55050267e+01  2.38388969e+01\n",
      "  8.38239502e+00 -1.33787193e+03 -4.42659396e+02 -4.54362510e+03\n",
      " -1.97916514e+03 -1.58616870e+03  2.50383585e+03  4.10362362e+01\n",
      " -3.53034853e+01  2.09498093e+01  1.72466965e+01  1.05653335e+02\n",
      " -8.26449611e+00 -1.30492625e+01  3.54318458e+02]\n"
     ]
    },
    {
     "name": "stderr",
     "output_type": "stream",
     "text": [
      "/opt/anaconda3/lib/python3.9/site-packages/sklearn/linear_model/_coordinate_descent.py:678: ConvergenceWarning: Objective did not converge. You might want to increase the number of iterations, check the scale of the features or consider increasing regularisation. Duality gap: 9.444e+11, tolerance: 8.985e+08\n"
     ]
    }
   ],
   "source": [
    "from sklearn.linear_model import Lasso, Ridge, ElasticNet\n",
    "from sklearn.preprocessing import StandardScaler\n",
    "\n",
    "X = ames_raw_2008[['Lot Area', 'Overall Qual', 'Overall Cond', 'Year Built', 'Year Remod/Add', '1st Flr SF',\n",
    "       '2nd Flr SF', 'Low Qual Fin SF', 'Gr Liv Area', 'Full Bath',\n",
    "       'Half Bath', 'Bedroom AbvGr', 'Kitchen AbvGr', 'TotRms AbvGrd',\n",
    "       'Fireplaces', 'Wood Deck SF', 'Open Porch SF', 'Enclosed Porch',\n",
    "       '3Ssn Porch', 'Screen Porch', 'Pool Area', 'Misc Val', 'Mo Sold']]\n",
    "y = ames_raw_2008['SalePrice']\n",
    "\n",
    "# Standardize the predictor matrix\n",
    "scaler = StandardScaler()\n",
    "X_train = scaler.fit_transform(X)\n",
    "# X_test = scaler.transform(ames_raw_2009[['Lot Area', 'Overall Qual', 'Overall Cond', 'Year Built', 'Year Remod/Add', '1st Flr SF',\n",
    "#        '2nd Flr SF', 'Low Qual Fin SF', 'Gr Liv Area', 'Full Bath',\n",
    "#        'Half Bath', 'Bedroom AbvGr', 'Kitchen AbvGr', 'TotRms AbvGrd',\n",
    "#        'Fireplaces', 'Wood Deck SF', 'Open Porch SF', 'Enclosed Porch',\n",
    "#        '3Ssn Porch', 'Screen Porch', 'Pool Area', 'Misc Val', 'Mo Sold']])\n",
    "\n",
    "lasso = Lasso(alpha=1)\n",
    "ridge = Ridge(alpha=1)\n",
    "elastic_net = ElasticNet(alpha=1, l1_ratio=0.5)\n",
    "\n",
    "lasso.fit(X, y)\n",
    "ridge.fit(X, y)\n",
    "elastic_net.fit(X, y)\n",
    "\n",
    "lasso_coefficients = lasso.coef_\n",
    "ridge_coefficients = ridge.coef_\n",
    "elastic_net_coefficients = elastic_net.coef_\n",
    "\n",
    "print(\"Lasso coefficients:\", lasso_coefficients)\n",
    "print(\"Ridge coefficients:\", ridge_coefficients)\n",
    "print(\"Elastic Net coefficients:\", elastic_net_coefficients)"
   ]
  },
  {
   "cell_type": "markdown",
   "id": "8daa08c2",
   "metadata": {},
   "source": [
    "Your answer:\n",
    "\n",
    "~~~\n",
    "Please write your answer in full sentences.\n",
    "\n",
    "\n",
    "~~~\n",
    "\n",
    "- For each of the models you've run, can you interpret which variable impacts the outcome the most?\n",
    "Are the results consistent across different methods?\n",
    "\n",
    "Your code:"
   ]
  },
  {
   "cell_type": "code",
   "execution_count": 7,
   "id": "c366654a",
   "metadata": {
    "Rmd_chunk_options": "echo=TRUE",
    "kernel": "Python3",
    "tags": [
     "report_cell"
    ]
   },
   "outputs": [
    {
     "name": "stdout",
     "output_type": "stream",
     "text": [
      "Most impactful variable in Lasso: Kitchen AbvGr\n",
      "Most impactful variable in Ridge: Kitchen AbvGr\n",
      "Most impactful variable in Elastic Net: Overall Qual\n"
     ]
    }
   ],
   "source": [
    "# Get the names of the variables\n",
    "variables = X.columns\n",
    "\n",
    "# Find the variable with the highest absolute coefficient for each model\n",
    "lasso_most_impactful = variables[abs(lasso_coefficients).argmax()]\n",
    "ridge_most_impactful = variables[abs(ridge_coefficients).argmax()]\n",
    "elastic_net_most_impactful = variables[abs(elastic_net_coefficients).argmax()]\n",
    "\n",
    "print(\"Most impactful variable in Lasso:\", lasso_most_impactful)\n",
    "print(\"Most impactful variable in Ridge:\", ridge_most_impactful)\n",
    "print(\"Most impactful variable in Elastic Net:\", elastic_net_most_impactful)"
   ]
  },
  {
   "cell_type": "markdown",
   "id": "19a6e3c0",
   "metadata": {},
   "source": [
    "Your answer:\n",
    "\n",
    "~~~\n",
    "Please write your answer in full sentences.\n",
    "\n",
    "\n",
    "~~~\n",
    "\n",
    "- Try these methods with bootstrap, are the results consistent?\n",
    "\n",
    "Your code:"
   ]
  },
  {
   "cell_type": "code",
   "execution_count": 9,
   "id": "7c1bb44f",
   "metadata": {
    "Rmd_chunk_options": "echo=TRUE",
    "kernel": "Python3",
    "tags": [
     "report_cell"
    ]
   },
   "outputs": [
    {
     "name": "stderr",
     "output_type": "stream",
     "text": [
      "/opt/anaconda3/lib/python3.9/site-packages/sklearn/linear_model/_coordinate_descent.py:678: ConvergenceWarning: Objective did not converge. You might want to increase the number of iterations, check the scale of the features or consider increasing regularisation. Duality gap: 4.149e+09, tolerance: 9.342e+08\n",
      "/opt/anaconda3/lib/python3.9/site-packages/sklearn/linear_model/_coordinate_descent.py:678: ConvergenceWarning: Objective did not converge. You might want to increase the number of iterations, check the scale of the features or consider increasing regularisation. Duality gap: 1.237e+09, tolerance: 1.022e+09\n",
      "/opt/anaconda3/lib/python3.9/site-packages/sklearn/linear_model/_coordinate_descent.py:678: ConvergenceWarning: Objective did not converge. You might want to increase the number of iterations, check the scale of the features or consider increasing regularisation. Duality gap: 3.221e+09, tolerance: 9.485e+08\n",
      "/opt/anaconda3/lib/python3.9/site-packages/sklearn/linear_model/_coordinate_descent.py:678: ConvergenceWarning: Objective did not converge. You might want to increase the number of iterations, check the scale of the features or consider increasing regularisation. Duality gap: 1.376e+09, tolerance: 7.459e+08\n",
      "/opt/anaconda3/lib/python3.9/site-packages/sklearn/linear_model/_coordinate_descent.py:678: ConvergenceWarning: Objective did not converge. You might want to increase the number of iterations, check the scale of the features or consider increasing regularisation. Duality gap: 1.988e+09, tolerance: 9.408e+08\n",
      "/opt/anaconda3/lib/python3.9/site-packages/sklearn/linear_model/_coordinate_descent.py:678: ConvergenceWarning: Objective did not converge. You might want to increase the number of iterations, check the scale of the features or consider increasing regularisation. Duality gap: 2.582e+09, tolerance: 9.028e+08\n",
      "/opt/anaconda3/lib/python3.9/site-packages/sklearn/linear_model/_coordinate_descent.py:678: ConvergenceWarning: Objective did not converge. You might want to increase the number of iterations, check the scale of the features or consider increasing regularisation. Duality gap: 1.623e+09, tolerance: 8.849e+08\n",
      "/opt/anaconda3/lib/python3.9/site-packages/sklearn/linear_model/_coordinate_descent.py:678: ConvergenceWarning: Objective did not converge. You might want to increase the number of iterations, check the scale of the features or consider increasing regularisation. Duality gap: 3.149e+09, tolerance: 8.411e+08\n",
      "/opt/anaconda3/lib/python3.9/site-packages/sklearn/linear_model/_coordinate_descent.py:678: ConvergenceWarning: Objective did not converge. You might want to increase the number of iterations, check the scale of the features or consider increasing regularisation. Duality gap: 1.366e+09, tolerance: 8.277e+08\n",
      "/opt/anaconda3/lib/python3.9/site-packages/sklearn/linear_model/_coordinate_descent.py:678: ConvergenceWarning: Objective did not converge. You might want to increase the number of iterations, check the scale of the features or consider increasing regularisation. Duality gap: 2.204e+09, tolerance: 8.996e+08\n",
      "/opt/anaconda3/lib/python3.9/site-packages/sklearn/linear_model/_coordinate_descent.py:678: ConvergenceWarning: Objective did not converge. You might want to increase the number of iterations, check the scale of the features or consider increasing regularisation. Duality gap: 3.070e+09, tolerance: 9.925e+08\n",
      "/opt/anaconda3/lib/python3.9/site-packages/sklearn/linear_model/_coordinate_descent.py:678: ConvergenceWarning: Objective did not converge. You might want to increase the number of iterations, check the scale of the features or consider increasing regularisation. Duality gap: 2.487e+09, tolerance: 7.752e+08\n",
      "/opt/anaconda3/lib/python3.9/site-packages/sklearn/linear_model/_coordinate_descent.py:678: ConvergenceWarning: Objective did not converge. You might want to increase the number of iterations, check the scale of the features or consider increasing regularisation. Duality gap: 3.475e+09, tolerance: 9.549e+08\n",
      "/opt/anaconda3/lib/python3.9/site-packages/sklearn/linear_model/_coordinate_descent.py:678: ConvergenceWarning: Objective did not converge. You might want to increase the number of iterations, check the scale of the features or consider increasing regularisation. Duality gap: 1.070e+09, tolerance: 9.275e+08\n",
      "/opt/anaconda3/lib/python3.9/site-packages/sklearn/linear_model/_coordinate_descent.py:678: ConvergenceWarning: Objective did not converge. You might want to increase the number of iterations, check the scale of the features or consider increasing regularisation. Duality gap: 3.028e+09, tolerance: 7.611e+08\n",
      "/opt/anaconda3/lib/python3.9/site-packages/sklearn/linear_model/_coordinate_descent.py:678: ConvergenceWarning: Objective did not converge. You might want to increase the number of iterations, check the scale of the features or consider increasing regularisation. Duality gap: 2.647e+09, tolerance: 9.112e+08\n",
      "/opt/anaconda3/lib/python3.9/site-packages/sklearn/linear_model/_coordinate_descent.py:678: ConvergenceWarning: Objective did not converge. You might want to increase the number of iterations, check the scale of the features or consider increasing regularisation. Duality gap: 2.948e+09, tolerance: 8.830e+08\n",
      "/opt/anaconda3/lib/python3.9/site-packages/sklearn/linear_model/_coordinate_descent.py:678: ConvergenceWarning: Objective did not converge. You might want to increase the number of iterations, check the scale of the features or consider increasing regularisation. Duality gap: 2.120e+09, tolerance: 7.397e+08\n",
      "/opt/anaconda3/lib/python3.9/site-packages/sklearn/linear_model/_coordinate_descent.py:678: ConvergenceWarning: Objective did not converge. You might want to increase the number of iterations, check the scale of the features or consider increasing regularisation. Duality gap: 1.927e+09, tolerance: 8.090e+08\n",
      "/opt/anaconda3/lib/python3.9/site-packages/sklearn/linear_model/_coordinate_descent.py:678: ConvergenceWarning: Objective did not converge. You might want to increase the number of iterations, check the scale of the features or consider increasing regularisation. Duality gap: 2.326e+09, tolerance: 9.431e+08\n",
      "/opt/anaconda3/lib/python3.9/site-packages/sklearn/linear_model/_coordinate_descent.py:678: ConvergenceWarning: Objective did not converge. You might want to increase the number of iterations, check the scale of the features or consider increasing regularisation. Duality gap: 3.584e+09, tolerance: 9.366e+08\n",
      "/opt/anaconda3/lib/python3.9/site-packages/sklearn/linear_model/_coordinate_descent.py:678: ConvergenceWarning: Objective did not converge. You might want to increase the number of iterations, check the scale of the features or consider increasing regularisation. Duality gap: 1.069e+09, tolerance: 7.666e+08\n",
      "/opt/anaconda3/lib/python3.9/site-packages/sklearn/linear_model/_coordinate_descent.py:678: ConvergenceWarning: Objective did not converge. You might want to increase the number of iterations, check the scale of the features or consider increasing regularisation. Duality gap: 1.180e+09, tolerance: 9.227e+08\n",
      "/opt/anaconda3/lib/python3.9/site-packages/sklearn/linear_model/_coordinate_descent.py:678: ConvergenceWarning: Objective did not converge. You might want to increase the number of iterations, check the scale of the features or consider increasing regularisation. Duality gap: 1.686e+09, tolerance: 9.138e+08\n",
      "/opt/anaconda3/lib/python3.9/site-packages/sklearn/linear_model/_coordinate_descent.py:678: ConvergenceWarning: Objective did not converge. You might want to increase the number of iterations, check the scale of the features or consider increasing regularisation. Duality gap: 2.388e+09, tolerance: 9.255e+08\n",
      "/opt/anaconda3/lib/python3.9/site-packages/sklearn/linear_model/_coordinate_descent.py:678: ConvergenceWarning: Objective did not converge. You might want to increase the number of iterations, check the scale of the features or consider increasing regularisation. Duality gap: 1.328e+09, tolerance: 7.902e+08\n",
      "/opt/anaconda3/lib/python3.9/site-packages/sklearn/linear_model/_coordinate_descent.py:678: ConvergenceWarning: Objective did not converge. You might want to increase the number of iterations, check the scale of the features or consider increasing regularisation. Duality gap: 4.443e+09, tolerance: 9.169e+08\n",
      "/opt/anaconda3/lib/python3.9/site-packages/sklearn/linear_model/_coordinate_descent.py:678: ConvergenceWarning: Objective did not converge. You might want to increase the number of iterations, check the scale of the features or consider increasing regularisation. Duality gap: 2.676e+09, tolerance: 1.059e+09\n",
      "/opt/anaconda3/lib/python3.9/site-packages/sklearn/linear_model/_coordinate_descent.py:678: ConvergenceWarning: Objective did not converge. You might want to increase the number of iterations, check the scale of the features or consider increasing regularisation. Duality gap: 9.637e+08, tolerance: 6.982e+08\n",
      "/opt/anaconda3/lib/python3.9/site-packages/sklearn/linear_model/_coordinate_descent.py:678: ConvergenceWarning: Objective did not converge. You might want to increase the number of iterations, check the scale of the features or consider increasing regularisation. Duality gap: 3.101e+09, tolerance: 9.463e+08\n",
      "/opt/anaconda3/lib/python3.9/site-packages/sklearn/linear_model/_coordinate_descent.py:678: ConvergenceWarning: Objective did not converge. You might want to increase the number of iterations, check the scale of the features or consider increasing regularisation. Duality gap: 3.434e+09, tolerance: 8.697e+08\n",
      "/opt/anaconda3/lib/python3.9/site-packages/sklearn/linear_model/_coordinate_descent.py:678: ConvergenceWarning: Objective did not converge. You might want to increase the number of iterations, check the scale of the features or consider increasing regularisation. Duality gap: 2.158e+09, tolerance: 9.407e+08\n",
      "/opt/anaconda3/lib/python3.9/site-packages/sklearn/linear_model/_coordinate_descent.py:678: ConvergenceWarning: Objective did not converge. You might want to increase the number of iterations, check the scale of the features or consider increasing regularisation. Duality gap: 1.174e+09, tolerance: 8.937e+08\n",
      "/opt/anaconda3/lib/python3.9/site-packages/sklearn/linear_model/_coordinate_descent.py:678: ConvergenceWarning: Objective did not converge. You might want to increase the number of iterations, check the scale of the features or consider increasing regularisation. Duality gap: 1.138e+09, tolerance: 8.005e+08\n",
      "/opt/anaconda3/lib/python3.9/site-packages/sklearn/linear_model/_coordinate_descent.py:678: ConvergenceWarning: Objective did not converge. You might want to increase the number of iterations, check the scale of the features or consider increasing regularisation. Duality gap: 1.886e+09, tolerance: 8.116e+08\n",
      "/opt/anaconda3/lib/python3.9/site-packages/sklearn/linear_model/_coordinate_descent.py:678: ConvergenceWarning: Objective did not converge. You might want to increase the number of iterations, check the scale of the features or consider increasing regularisation. Duality gap: 3.407e+09, tolerance: 9.277e+08\n",
      "/opt/anaconda3/lib/python3.9/site-packages/sklearn/linear_model/_coordinate_descent.py:678: ConvergenceWarning: Objective did not converge. You might want to increase the number of iterations, check the scale of the features or consider increasing regularisation. Duality gap: 2.334e+09, tolerance: 9.581e+08\n",
      "/opt/anaconda3/lib/python3.9/site-packages/sklearn/linear_model/_coordinate_descent.py:678: ConvergenceWarning: Objective did not converge. You might want to increase the number of iterations, check the scale of the features or consider increasing regularisation. Duality gap: 1.339e+09, tolerance: 8.569e+08\n",
      "/opt/anaconda3/lib/python3.9/site-packages/sklearn/linear_model/_coordinate_descent.py:678: ConvergenceWarning: Objective did not converge. You might want to increase the number of iterations, check the scale of the features or consider increasing regularisation. Duality gap: 1.507e+09, tolerance: 9.653e+08\n",
      "/opt/anaconda3/lib/python3.9/site-packages/sklearn/linear_model/_coordinate_descent.py:678: ConvergenceWarning: Objective did not converge. You might want to increase the number of iterations, check the scale of the features or consider increasing regularisation. Duality gap: 1.371e+09, tolerance: 9.180e+08\n",
      "/opt/anaconda3/lib/python3.9/site-packages/sklearn/linear_model/_coordinate_descent.py:678: ConvergenceWarning: Objective did not converge. You might want to increase the number of iterations, check the scale of the features or consider increasing regularisation. Duality gap: 1.289e+09, tolerance: 9.164e+08\n",
      "/opt/anaconda3/lib/python3.9/site-packages/sklearn/linear_model/_coordinate_descent.py:678: ConvergenceWarning: Objective did not converge. You might want to increase the number of iterations, check the scale of the features or consider increasing regularisation. Duality gap: 2.763e+09, tolerance: 8.862e+08\n",
      "/opt/anaconda3/lib/python3.9/site-packages/sklearn/linear_model/_coordinate_descent.py:678: ConvergenceWarning: Objective did not converge. You might want to increase the number of iterations, check the scale of the features or consider increasing regularisation. Duality gap: 2.541e+09, tolerance: 8.925e+08\n",
      "/opt/anaconda3/lib/python3.9/site-packages/sklearn/linear_model/_coordinate_descent.py:678: ConvergenceWarning: Objective did not converge. You might want to increase the number of iterations, check the scale of the features or consider increasing regularisation. Duality gap: 1.883e+09, tolerance: 8.277e+08\n",
      "/opt/anaconda3/lib/python3.9/site-packages/sklearn/linear_model/_coordinate_descent.py:678: ConvergenceWarning: Objective did not converge. You might want to increase the number of iterations, check the scale of the features or consider increasing regularisation. Duality gap: 1.835e+09, tolerance: 8.736e+08\n",
      "/opt/anaconda3/lib/python3.9/site-packages/sklearn/linear_model/_coordinate_descent.py:678: ConvergenceWarning: Objective did not converge. You might want to increase the number of iterations, check the scale of the features or consider increasing regularisation. Duality gap: 1.692e+09, tolerance: 8.383e+08\n",
      "/opt/anaconda3/lib/python3.9/site-packages/sklearn/linear_model/_coordinate_descent.py:678: ConvergenceWarning: Objective did not converge. You might want to increase the number of iterations, check the scale of the features or consider increasing regularisation. Duality gap: 3.071e+09, tolerance: 8.273e+08\n",
      "/opt/anaconda3/lib/python3.9/site-packages/sklearn/linear_model/_coordinate_descent.py:678: ConvergenceWarning: Objective did not converge. You might want to increase the number of iterations, check the scale of the features or consider increasing regularisation. Duality gap: 3.399e+09, tolerance: 9.901e+08\n",
      "/opt/anaconda3/lib/python3.9/site-packages/sklearn/linear_model/_coordinate_descent.py:678: ConvergenceWarning: Objective did not converge. You might want to increase the number of iterations, check the scale of the features or consider increasing regularisation. Duality gap: 2.522e+09, tolerance: 9.036e+08\n",
      "/opt/anaconda3/lib/python3.9/site-packages/sklearn/linear_model/_coordinate_descent.py:678: ConvergenceWarning: Objective did not converge. You might want to increase the number of iterations, check the scale of the features or consider increasing regularisation. Duality gap: 1.494e+09, tolerance: 8.711e+08\n",
      "/opt/anaconda3/lib/python3.9/site-packages/sklearn/linear_model/_coordinate_descent.py:678: ConvergenceWarning: Objective did not converge. You might want to increase the number of iterations, check the scale of the features or consider increasing regularisation. Duality gap: 4.194e+09, tolerance: 7.751e+08\n",
      "/opt/anaconda3/lib/python3.9/site-packages/sklearn/linear_model/_coordinate_descent.py:678: ConvergenceWarning: Objective did not converge. You might want to increase the number of iterations, check the scale of the features or consider increasing regularisation. Duality gap: 2.114e+09, tolerance: 8.908e+08\n",
      "/opt/anaconda3/lib/python3.9/site-packages/sklearn/linear_model/_coordinate_descent.py:678: ConvergenceWarning: Objective did not converge. You might want to increase the number of iterations, check the scale of the features or consider increasing regularisation. Duality gap: 1.964e+09, tolerance: 9.521e+08\n",
      "/opt/anaconda3/lib/python3.9/site-packages/sklearn/linear_model/_coordinate_descent.py:678: ConvergenceWarning: Objective did not converge. You might want to increase the number of iterations, check the scale of the features or consider increasing regularisation. Duality gap: 4.668e+09, tolerance: 8.576e+08\n",
      "/opt/anaconda3/lib/python3.9/site-packages/sklearn/linear_model/_coordinate_descent.py:678: ConvergenceWarning: Objective did not converge. You might want to increase the number of iterations, check the scale of the features or consider increasing regularisation. Duality gap: 2.640e+09, tolerance: 9.296e+08\n",
      "/opt/anaconda3/lib/python3.9/site-packages/sklearn/linear_model/_coordinate_descent.py:678: ConvergenceWarning: Objective did not converge. You might want to increase the number of iterations, check the scale of the features or consider increasing regularisation. Duality gap: 3.856e+09, tolerance: 8.542e+08\n",
      "/opt/anaconda3/lib/python3.9/site-packages/sklearn/linear_model/_coordinate_descent.py:678: ConvergenceWarning: Objective did not converge. You might want to increase the number of iterations, check the scale of the features or consider increasing regularisation. Duality gap: 2.008e+09, tolerance: 7.125e+08\n",
      "/opt/anaconda3/lib/python3.9/site-packages/sklearn/linear_model/_coordinate_descent.py:678: ConvergenceWarning: Objective did not converge. You might want to increase the number of iterations, check the scale of the features or consider increasing regularisation. Duality gap: 4.318e+09, tolerance: 8.523e+08\n",
      "/opt/anaconda3/lib/python3.9/site-packages/sklearn/linear_model/_coordinate_descent.py:678: ConvergenceWarning: Objective did not converge. You might want to increase the number of iterations, check the scale of the features or consider increasing regularisation. Duality gap: 1.536e+09, tolerance: 9.232e+08\n",
      "/opt/anaconda3/lib/python3.9/site-packages/sklearn/linear_model/_coordinate_descent.py:678: ConvergenceWarning: Objective did not converge. You might want to increase the number of iterations, check the scale of the features or consider increasing regularisation. Duality gap: 1.434e+09, tolerance: 9.232e+08\n",
      "/opt/anaconda3/lib/python3.9/site-packages/sklearn/linear_model/_coordinate_descent.py:678: ConvergenceWarning: Objective did not converge. You might want to increase the number of iterations, check the scale of the features or consider increasing regularisation. Duality gap: 2.551e+09, tolerance: 8.718e+08\n",
      "/opt/anaconda3/lib/python3.9/site-packages/sklearn/linear_model/_coordinate_descent.py:678: ConvergenceWarning: Objective did not converge. You might want to increase the number of iterations, check the scale of the features or consider increasing regularisation. Duality gap: 3.446e+09, tolerance: 7.830e+08\n",
      "/opt/anaconda3/lib/python3.9/site-packages/sklearn/linear_model/_coordinate_descent.py:678: ConvergenceWarning: Objective did not converge. You might want to increase the number of iterations, check the scale of the features or consider increasing regularisation. Duality gap: 1.082e+09, tolerance: 8.907e+08\n",
      "/opt/anaconda3/lib/python3.9/site-packages/sklearn/linear_model/_coordinate_descent.py:678: ConvergenceWarning: Objective did not converge. You might want to increase the number of iterations, check the scale of the features or consider increasing regularisation. Duality gap: 1.002e+09, tolerance: 8.394e+08\n",
      "/opt/anaconda3/lib/python3.9/site-packages/sklearn/linear_model/_coordinate_descent.py:678: ConvergenceWarning: Objective did not converge. You might want to increase the number of iterations, check the scale of the features or consider increasing regularisation. Duality gap: 2.202e+09, tolerance: 9.456e+08\n",
      "/opt/anaconda3/lib/python3.9/site-packages/sklearn/linear_model/_coordinate_descent.py:678: ConvergenceWarning: Objective did not converge. You might want to increase the number of iterations, check the scale of the features or consider increasing regularisation. Duality gap: 3.849e+09, tolerance: 8.531e+08\n",
      "/opt/anaconda3/lib/python3.9/site-packages/sklearn/linear_model/_coordinate_descent.py:678: ConvergenceWarning: Objective did not converge. You might want to increase the number of iterations, check the scale of the features or consider increasing regularisation. Duality gap: 1.777e+09, tolerance: 1.069e+09\n",
      "/opt/anaconda3/lib/python3.9/site-packages/sklearn/linear_model/_coordinate_descent.py:678: ConvergenceWarning: Objective did not converge. You might want to increase the number of iterations, check the scale of the features or consider increasing regularisation. Duality gap: 2.270e+09, tolerance: 9.194e+08\n",
      "/opt/anaconda3/lib/python3.9/site-packages/sklearn/linear_model/_coordinate_descent.py:678: ConvergenceWarning: Objective did not converge. You might want to increase the number of iterations, check the scale of the features or consider increasing regularisation. Duality gap: 2.293e+09, tolerance: 9.574e+08\n",
      "/opt/anaconda3/lib/python3.9/site-packages/sklearn/linear_model/_coordinate_descent.py:678: ConvergenceWarning: Objective did not converge. You might want to increase the number of iterations, check the scale of the features or consider increasing regularisation. Duality gap: 2.338e+09, tolerance: 9.334e+08\n",
      "/opt/anaconda3/lib/python3.9/site-packages/sklearn/linear_model/_coordinate_descent.py:678: ConvergenceWarning: Objective did not converge. You might want to increase the number of iterations, check the scale of the features or consider increasing regularisation. Duality gap: 3.294e+09, tolerance: 9.904e+08\n",
      "/opt/anaconda3/lib/python3.9/site-packages/sklearn/linear_model/_coordinate_descent.py:678: ConvergenceWarning: Objective did not converge. You might want to increase the number of iterations, check the scale of the features or consider increasing regularisation. Duality gap: 1.519e+09, tolerance: 1.089e+09\n",
      "/opt/anaconda3/lib/python3.9/site-packages/sklearn/linear_model/_coordinate_descent.py:678: ConvergenceWarning: Objective did not converge. You might want to increase the number of iterations, check the scale of the features or consider increasing regularisation. Duality gap: 2.540e+09, tolerance: 8.246e+08\n",
      "/opt/anaconda3/lib/python3.9/site-packages/sklearn/linear_model/_coordinate_descent.py:678: ConvergenceWarning: Objective did not converge. You might want to increase the number of iterations, check the scale of the features or consider increasing regularisation. Duality gap: 1.278e+09, tolerance: 9.931e+08\n",
      "/opt/anaconda3/lib/python3.9/site-packages/sklearn/linear_model/_coordinate_descent.py:678: ConvergenceWarning: Objective did not converge. You might want to increase the number of iterations, check the scale of the features or consider increasing regularisation. Duality gap: 1.594e+09, tolerance: 8.464e+08\n",
      "/opt/anaconda3/lib/python3.9/site-packages/sklearn/linear_model/_coordinate_descent.py:678: ConvergenceWarning: Objective did not converge. You might want to increase the number of iterations, check the scale of the features or consider increasing regularisation. Duality gap: 2.257e+09, tolerance: 9.795e+08\n",
      "/opt/anaconda3/lib/python3.9/site-packages/sklearn/linear_model/_coordinate_descent.py:678: ConvergenceWarning: Objective did not converge. You might want to increase the number of iterations, check the scale of the features or consider increasing regularisation. Duality gap: 5.013e+09, tolerance: 8.791e+08\n",
      "/opt/anaconda3/lib/python3.9/site-packages/sklearn/linear_model/_coordinate_descent.py:678: ConvergenceWarning: Objective did not converge. You might want to increase the number of iterations, check the scale of the features or consider increasing regularisation. Duality gap: 1.319e+09, tolerance: 9.181e+08\n",
      "/opt/anaconda3/lib/python3.9/site-packages/sklearn/linear_model/_coordinate_descent.py:678: ConvergenceWarning: Objective did not converge. You might want to increase the number of iterations, check the scale of the features or consider increasing regularisation. Duality gap: 5.597e+09, tolerance: 7.736e+08\n",
      "/opt/anaconda3/lib/python3.9/site-packages/sklearn/linear_model/_coordinate_descent.py:678: ConvergenceWarning: Objective did not converge. You might want to increase the number of iterations, check the scale of the features or consider increasing regularisation. Duality gap: 3.358e+09, tolerance: 7.971e+08\n",
      "/opt/anaconda3/lib/python3.9/site-packages/sklearn/linear_model/_coordinate_descent.py:678: ConvergenceWarning: Objective did not converge. You might want to increase the number of iterations, check the scale of the features or consider increasing regularisation. Duality gap: 1.727e+09, tolerance: 8.169e+08\n",
      "/opt/anaconda3/lib/python3.9/site-packages/sklearn/linear_model/_coordinate_descent.py:678: ConvergenceWarning: Objective did not converge. You might want to increase the number of iterations, check the scale of the features or consider increasing regularisation. Duality gap: 1.363e+09, tolerance: 8.072e+08\n",
      "/opt/anaconda3/lib/python3.9/site-packages/sklearn/linear_model/_coordinate_descent.py:678: ConvergenceWarning: Objective did not converge. You might want to increase the number of iterations, check the scale of the features or consider increasing regularisation. Duality gap: 1.576e+09, tolerance: 9.238e+08\n",
      "/opt/anaconda3/lib/python3.9/site-packages/sklearn/linear_model/_coordinate_descent.py:678: ConvergenceWarning: Objective did not converge. You might want to increase the number of iterations, check the scale of the features or consider increasing regularisation. Duality gap: 2.819e+09, tolerance: 8.167e+08\n",
      "/opt/anaconda3/lib/python3.9/site-packages/sklearn/linear_model/_coordinate_descent.py:678: ConvergenceWarning: Objective did not converge. You might want to increase the number of iterations, check the scale of the features or consider increasing regularisation. Duality gap: 1.186e+09, tolerance: 7.901e+08\n",
      "/opt/anaconda3/lib/python3.9/site-packages/sklearn/linear_model/_coordinate_descent.py:678: ConvergenceWarning: Objective did not converge. You might want to increase the number of iterations, check the scale of the features or consider increasing regularisation. Duality gap: 1.147e+09, tolerance: 8.925e+08\n",
      "/opt/anaconda3/lib/python3.9/site-packages/sklearn/linear_model/_coordinate_descent.py:678: ConvergenceWarning: Objective did not converge. You might want to increase the number of iterations, check the scale of the features or consider increasing regularisation. Duality gap: 2.432e+09, tolerance: 8.724e+08\n",
      "/opt/anaconda3/lib/python3.9/site-packages/sklearn/linear_model/_coordinate_descent.py:678: ConvergenceWarning: Objective did not converge. You might want to increase the number of iterations, check the scale of the features or consider increasing regularisation. Duality gap: 2.758e+09, tolerance: 7.877e+08\n",
      "/opt/anaconda3/lib/python3.9/site-packages/sklearn/linear_model/_coordinate_descent.py:678: ConvergenceWarning: Objective did not converge. You might want to increase the number of iterations, check the scale of the features or consider increasing regularisation. Duality gap: 2.722e+09, tolerance: 8.484e+08\n",
      "/opt/anaconda3/lib/python3.9/site-packages/sklearn/linear_model/_coordinate_descent.py:678: ConvergenceWarning: Objective did not converge. You might want to increase the number of iterations, check the scale of the features or consider increasing regularisation. Duality gap: 2.233e+09, tolerance: 9.568e+08\n",
      "/opt/anaconda3/lib/python3.9/site-packages/sklearn/linear_model/_coordinate_descent.py:678: ConvergenceWarning: Objective did not converge. You might want to increase the number of iterations, check the scale of the features or consider increasing regularisation. Duality gap: 8.103e+09, tolerance: 8.481e+08\n",
      "/opt/anaconda3/lib/python3.9/site-packages/sklearn/linear_model/_coordinate_descent.py:678: ConvergenceWarning: Objective did not converge. You might want to increase the number of iterations, check the scale of the features or consider increasing regularisation. Duality gap: 2.437e+09, tolerance: 8.742e+08\n",
      "/opt/anaconda3/lib/python3.9/site-packages/sklearn/linear_model/_coordinate_descent.py:678: ConvergenceWarning: Objective did not converge. You might want to increase the number of iterations, check the scale of the features or consider increasing regularisation. Duality gap: 2.048e+09, tolerance: 8.606e+08\n",
      "/opt/anaconda3/lib/python3.9/site-packages/sklearn/linear_model/_coordinate_descent.py:678: ConvergenceWarning: Objective did not converge. You might want to increase the number of iterations, check the scale of the features or consider increasing regularisation. Duality gap: 1.192e+09, tolerance: 7.721e+08\n",
      "/opt/anaconda3/lib/python3.9/site-packages/sklearn/linear_model/_coordinate_descent.py:678: ConvergenceWarning: Objective did not converge. You might want to increase the number of iterations, check the scale of the features or consider increasing regularisation. Duality gap: 2.744e+09, tolerance: 9.539e+08\n",
      "/opt/anaconda3/lib/python3.9/site-packages/sklearn/linear_model/_coordinate_descent.py:678: ConvergenceWarning: Objective did not converge. You might want to increase the number of iterations, check the scale of the features or consider increasing regularisation. Duality gap: 1.087e+09, tolerance: 8.638e+08\n",
      "/opt/anaconda3/lib/python3.9/site-packages/sklearn/linear_model/_coordinate_descent.py:678: ConvergenceWarning: Objective did not converge. You might want to increase the number of iterations, check the scale of the features or consider increasing regularisation. Duality gap: 2.304e+09, tolerance: 8.595e+08\n",
      "/opt/anaconda3/lib/python3.9/site-packages/sklearn/linear_model/_coordinate_descent.py:678: ConvergenceWarning: Objective did not converge. You might want to increase the number of iterations, check the scale of the features or consider increasing regularisation. Duality gap: 3.824e+09, tolerance: 8.288e+08\n",
      "/opt/anaconda3/lib/python3.9/site-packages/sklearn/linear_model/_coordinate_descent.py:678: ConvergenceWarning: Objective did not converge. You might want to increase the number of iterations, check the scale of the features or consider increasing regularisation. Duality gap: 1.979e+09, tolerance: 8.757e+08\n",
      "/opt/anaconda3/lib/python3.9/site-packages/sklearn/linear_model/_coordinate_descent.py:678: ConvergenceWarning: Objective did not converge. You might want to increase the number of iterations, check the scale of the features or consider increasing regularisation. Duality gap: 2.338e+09, tolerance: 8.638e+08\n",
      "/opt/anaconda3/lib/python3.9/site-packages/sklearn/linear_model/_coordinate_descent.py:678: ConvergenceWarning: Objective did not converge. You might want to increase the number of iterations, check the scale of the features or consider increasing regularisation. Duality gap: 2.365e+09, tolerance: 8.956e+08\n",
      "/opt/anaconda3/lib/python3.9/site-packages/sklearn/linear_model/_coordinate_descent.py:678: ConvergenceWarning: Objective did not converge. You might want to increase the number of iterations, check the scale of the features or consider increasing regularisation. Duality gap: 3.811e+09, tolerance: 7.479e+08\n",
      "/opt/anaconda3/lib/python3.9/site-packages/sklearn/linear_model/_coordinate_descent.py:678: ConvergenceWarning: Objective did not converge. You might want to increase the number of iterations, check the scale of the features or consider increasing regularisation. Duality gap: 1.744e+09, tolerance: 1.097e+09\n",
      "/opt/anaconda3/lib/python3.9/site-packages/sklearn/linear_model/_coordinate_descent.py:678: ConvergenceWarning: Objective did not converge. You might want to increase the number of iterations, check the scale of the features or consider increasing regularisation. Duality gap: 3.222e+09, tolerance: 9.144e+08\n",
      "/opt/anaconda3/lib/python3.9/site-packages/sklearn/linear_model/_coordinate_descent.py:678: ConvergenceWarning: Objective did not converge. You might want to increase the number of iterations, check the scale of the features or consider increasing regularisation. Duality gap: 3.172e+09, tolerance: 8.017e+08\n",
      "/opt/anaconda3/lib/python3.9/site-packages/sklearn/linear_model/_coordinate_descent.py:678: ConvergenceWarning: Objective did not converge. You might want to increase the number of iterations, check the scale of the features or consider increasing regularisation. Duality gap: 2.151e+09, tolerance: 8.105e+08\n",
      "/opt/anaconda3/lib/python3.9/site-packages/sklearn/linear_model/_coordinate_descent.py:678: ConvergenceWarning: Objective did not converge. You might want to increase the number of iterations, check the scale of the features or consider increasing regularisation. Duality gap: 2.213e+09, tolerance: 8.321e+08\n",
      "/opt/anaconda3/lib/python3.9/site-packages/sklearn/linear_model/_coordinate_descent.py:678: ConvergenceWarning: Objective did not converge. You might want to increase the number of iterations, check the scale of the features or consider increasing regularisation. Duality gap: 5.637e+09, tolerance: 7.356e+08\n",
      "/opt/anaconda3/lib/python3.9/site-packages/sklearn/linear_model/_coordinate_descent.py:678: ConvergenceWarning: Objective did not converge. You might want to increase the number of iterations, check the scale of the features or consider increasing regularisation. Duality gap: 1.632e+09, tolerance: 8.582e+08\n",
      "/opt/anaconda3/lib/python3.9/site-packages/sklearn/linear_model/_coordinate_descent.py:678: ConvergenceWarning: Objective did not converge. You might want to increase the number of iterations, check the scale of the features or consider increasing regularisation. Duality gap: 5.071e+09, tolerance: 8.435e+08\n",
      "/opt/anaconda3/lib/python3.9/site-packages/sklearn/linear_model/_coordinate_descent.py:678: ConvergenceWarning: Objective did not converge. You might want to increase the number of iterations, check the scale of the features or consider increasing regularisation. Duality gap: 2.059e+09, tolerance: 8.454e+08\n",
      "/opt/anaconda3/lib/python3.9/site-packages/sklearn/linear_model/_coordinate_descent.py:678: ConvergenceWarning: Objective did not converge. You might want to increase the number of iterations, check the scale of the features or consider increasing regularisation. Duality gap: 2.819e+09, tolerance: 7.241e+08\n",
      "/opt/anaconda3/lib/python3.9/site-packages/sklearn/linear_model/_coordinate_descent.py:678: ConvergenceWarning: Objective did not converge. You might want to increase the number of iterations, check the scale of the features or consider increasing regularisation. Duality gap: 1.431e+09, tolerance: 7.838e+08\n",
      "/opt/anaconda3/lib/python3.9/site-packages/sklearn/linear_model/_coordinate_descent.py:678: ConvergenceWarning: Objective did not converge. You might want to increase the number of iterations, check the scale of the features or consider increasing regularisation. Duality gap: 3.262e+09, tolerance: 8.688e+08\n",
      "/opt/anaconda3/lib/python3.9/site-packages/sklearn/linear_model/_coordinate_descent.py:678: ConvergenceWarning: Objective did not converge. You might want to increase the number of iterations, check the scale of the features or consider increasing regularisation. Duality gap: 1.746e+09, tolerance: 9.717e+08\n",
      "/opt/anaconda3/lib/python3.9/site-packages/sklearn/linear_model/_coordinate_descent.py:678: ConvergenceWarning: Objective did not converge. You might want to increase the number of iterations, check the scale of the features or consider increasing regularisation. Duality gap: 3.571e+09, tolerance: 8.827e+08\n",
      "/opt/anaconda3/lib/python3.9/site-packages/sklearn/linear_model/_coordinate_descent.py:678: ConvergenceWarning: Objective did not converge. You might want to increase the number of iterations, check the scale of the features or consider increasing regularisation. Duality gap: 1.119e+09, tolerance: 9.096e+08\n",
      "/opt/anaconda3/lib/python3.9/site-packages/sklearn/linear_model/_coordinate_descent.py:678: ConvergenceWarning: Objective did not converge. You might want to increase the number of iterations, check the scale of the features or consider increasing regularisation. Duality gap: 1.800e+09, tolerance: 9.178e+08\n",
      "/opt/anaconda3/lib/python3.9/site-packages/sklearn/linear_model/_coordinate_descent.py:678: ConvergenceWarning: Objective did not converge. You might want to increase the number of iterations, check the scale of the features or consider increasing regularisation. Duality gap: 4.811e+09, tolerance: 7.194e+08\n",
      "/opt/anaconda3/lib/python3.9/site-packages/sklearn/linear_model/_coordinate_descent.py:678: ConvergenceWarning: Objective did not converge. You might want to increase the number of iterations, check the scale of the features or consider increasing regularisation. Duality gap: 5.233e+09, tolerance: 8.482e+08\n",
      "/opt/anaconda3/lib/python3.9/site-packages/sklearn/linear_model/_coordinate_descent.py:678: ConvergenceWarning: Objective did not converge. You might want to increase the number of iterations, check the scale of the features or consider increasing regularisation. Duality gap: 2.827e+09, tolerance: 9.117e+08\n",
      "/opt/anaconda3/lib/python3.9/site-packages/sklearn/linear_model/_coordinate_descent.py:678: ConvergenceWarning: Objective did not converge. You might want to increase the number of iterations, check the scale of the features or consider increasing regularisation. Duality gap: 3.791e+09, tolerance: 7.878e+08\n",
      "/opt/anaconda3/lib/python3.9/site-packages/sklearn/linear_model/_coordinate_descent.py:678: ConvergenceWarning: Objective did not converge. You might want to increase the number of iterations, check the scale of the features or consider increasing regularisation. Duality gap: 2.295e+09, tolerance: 8.382e+08\n",
      "/opt/anaconda3/lib/python3.9/site-packages/sklearn/linear_model/_coordinate_descent.py:678: ConvergenceWarning: Objective did not converge. You might want to increase the number of iterations, check the scale of the features or consider increasing regularisation. Duality gap: 1.579e+09, tolerance: 8.879e+08\n",
      "/opt/anaconda3/lib/python3.9/site-packages/sklearn/linear_model/_coordinate_descent.py:678: ConvergenceWarning: Objective did not converge. You might want to increase the number of iterations, check the scale of the features or consider increasing regularisation. Duality gap: 2.230e+09, tolerance: 9.702e+08\n",
      "/opt/anaconda3/lib/python3.9/site-packages/sklearn/linear_model/_coordinate_descent.py:678: ConvergenceWarning: Objective did not converge. You might want to increase the number of iterations, check the scale of the features or consider increasing regularisation. Duality gap: 1.290e+09, tolerance: 7.769e+08\n",
      "/opt/anaconda3/lib/python3.9/site-packages/sklearn/linear_model/_coordinate_descent.py:678: ConvergenceWarning: Objective did not converge. You might want to increase the number of iterations, check the scale of the features or consider increasing regularisation. Duality gap: 2.760e+09, tolerance: 9.851e+08\n",
      "/opt/anaconda3/lib/python3.9/site-packages/sklearn/linear_model/_coordinate_descent.py:678: ConvergenceWarning: Objective did not converge. You might want to increase the number of iterations, check the scale of the features or consider increasing regularisation. Duality gap: 2.227e+09, tolerance: 9.149e+08\n",
      "/opt/anaconda3/lib/python3.9/site-packages/sklearn/linear_model/_coordinate_descent.py:678: ConvergenceWarning: Objective did not converge. You might want to increase the number of iterations, check the scale of the features or consider increasing regularisation. Duality gap: 2.359e+09, tolerance: 9.066e+08\n",
      "/opt/anaconda3/lib/python3.9/site-packages/sklearn/linear_model/_coordinate_descent.py:678: ConvergenceWarning: Objective did not converge. You might want to increase the number of iterations, check the scale of the features or consider increasing regularisation. Duality gap: 3.678e+09, tolerance: 8.652e+08\n",
      "/opt/anaconda3/lib/python3.9/site-packages/sklearn/linear_model/_coordinate_descent.py:678: ConvergenceWarning: Objective did not converge. You might want to increase the number of iterations, check the scale of the features or consider increasing regularisation. Duality gap: 2.858e+09, tolerance: 8.352e+08\n",
      "/opt/anaconda3/lib/python3.9/site-packages/sklearn/linear_model/_coordinate_descent.py:678: ConvergenceWarning: Objective did not converge. You might want to increase the number of iterations, check the scale of the features or consider increasing regularisation. Duality gap: 1.125e+09, tolerance: 9.247e+08\n",
      "/opt/anaconda3/lib/python3.9/site-packages/sklearn/linear_model/_coordinate_descent.py:678: ConvergenceWarning: Objective did not converge. You might want to increase the number of iterations, check the scale of the features or consider increasing regularisation. Duality gap: 2.818e+09, tolerance: 9.613e+08\n",
      "/opt/anaconda3/lib/python3.9/site-packages/sklearn/linear_model/_coordinate_descent.py:678: ConvergenceWarning: Objective did not converge. You might want to increase the number of iterations, check the scale of the features or consider increasing regularisation. Duality gap: 4.718e+09, tolerance: 1.041e+09\n",
      "/opt/anaconda3/lib/python3.9/site-packages/sklearn/linear_model/_coordinate_descent.py:678: ConvergenceWarning: Objective did not converge. You might want to increase the number of iterations, check the scale of the features or consider increasing regularisation. Duality gap: 1.338e+09, tolerance: 9.409e+08\n",
      "/opt/anaconda3/lib/python3.9/site-packages/sklearn/linear_model/_coordinate_descent.py:678: ConvergenceWarning: Objective did not converge. You might want to increase the number of iterations, check the scale of the features or consider increasing regularisation. Duality gap: 2.335e+09, tolerance: 9.514e+08\n",
      "/opt/anaconda3/lib/python3.9/site-packages/sklearn/linear_model/_coordinate_descent.py:678: ConvergenceWarning: Objective did not converge. You might want to increase the number of iterations, check the scale of the features or consider increasing regularisation. Duality gap: 2.163e+09, tolerance: 8.312e+08\n",
      "/opt/anaconda3/lib/python3.9/site-packages/sklearn/linear_model/_coordinate_descent.py:678: ConvergenceWarning: Objective did not converge. You might want to increase the number of iterations, check the scale of the features or consider increasing regularisation. Duality gap: 1.584e+09, tolerance: 8.835e+08\n",
      "/opt/anaconda3/lib/python3.9/site-packages/sklearn/linear_model/_coordinate_descent.py:678: ConvergenceWarning: Objective did not converge. You might want to increase the number of iterations, check the scale of the features or consider increasing regularisation. Duality gap: 1.296e+09, tolerance: 8.212e+08\n",
      "/opt/anaconda3/lib/python3.9/site-packages/sklearn/linear_model/_coordinate_descent.py:678: ConvergenceWarning: Objective did not converge. You might want to increase the number of iterations, check the scale of the features or consider increasing regularisation. Duality gap: 2.154e+09, tolerance: 1.024e+09\n",
      "/opt/anaconda3/lib/python3.9/site-packages/sklearn/linear_model/_coordinate_descent.py:678: ConvergenceWarning: Objective did not converge. You might want to increase the number of iterations, check the scale of the features or consider increasing regularisation. Duality gap: 8.410e+09, tolerance: 9.466e+08\n",
      "/opt/anaconda3/lib/python3.9/site-packages/sklearn/linear_model/_coordinate_descent.py:678: ConvergenceWarning: Objective did not converge. You might want to increase the number of iterations, check the scale of the features or consider increasing regularisation. Duality gap: 2.162e+09, tolerance: 9.210e+08\n",
      "/opt/anaconda3/lib/python3.9/site-packages/sklearn/linear_model/_coordinate_descent.py:678: ConvergenceWarning: Objective did not converge. You might want to increase the number of iterations, check the scale of the features or consider increasing regularisation. Duality gap: 1.909e+09, tolerance: 9.471e+08\n",
      "/opt/anaconda3/lib/python3.9/site-packages/sklearn/linear_model/_coordinate_descent.py:678: ConvergenceWarning: Objective did not converge. You might want to increase the number of iterations, check the scale of the features or consider increasing regularisation. Duality gap: 3.482e+09, tolerance: 8.438e+08\n",
      "/opt/anaconda3/lib/python3.9/site-packages/sklearn/linear_model/_coordinate_descent.py:678: ConvergenceWarning: Objective did not converge. You might want to increase the number of iterations, check the scale of the features or consider increasing regularisation. Duality gap: 4.251e+09, tolerance: 8.368e+08\n",
      "/opt/anaconda3/lib/python3.9/site-packages/sklearn/linear_model/_coordinate_descent.py:678: ConvergenceWarning: Objective did not converge. You might want to increase the number of iterations, check the scale of the features or consider increasing regularisation. Duality gap: 1.456e+09, tolerance: 8.751e+08\n",
      "/opt/anaconda3/lib/python3.9/site-packages/sklearn/linear_model/_coordinate_descent.py:678: ConvergenceWarning: Objective did not converge. You might want to increase the number of iterations, check the scale of the features or consider increasing regularisation. Duality gap: 3.940e+09, tolerance: 9.398e+08\n",
      "/opt/anaconda3/lib/python3.9/site-packages/sklearn/linear_model/_coordinate_descent.py:678: ConvergenceWarning: Objective did not converge. You might want to increase the number of iterations, check the scale of the features or consider increasing regularisation. Duality gap: 1.913e+09, tolerance: 7.664e+08\n",
      "/opt/anaconda3/lib/python3.9/site-packages/sklearn/linear_model/_coordinate_descent.py:678: ConvergenceWarning: Objective did not converge. You might want to increase the number of iterations, check the scale of the features or consider increasing regularisation. Duality gap: 2.186e+09, tolerance: 9.767e+08\n",
      "/opt/anaconda3/lib/python3.9/site-packages/sklearn/linear_model/_coordinate_descent.py:678: ConvergenceWarning: Objective did not converge. You might want to increase the number of iterations, check the scale of the features or consider increasing regularisation. Duality gap: 1.402e+09, tolerance: 9.821e+08\n",
      "/opt/anaconda3/lib/python3.9/site-packages/sklearn/linear_model/_coordinate_descent.py:678: ConvergenceWarning: Objective did not converge. You might want to increase the number of iterations, check the scale of the features or consider increasing regularisation. Duality gap: 1.209e+09, tolerance: 8.647e+08\n",
      "/opt/anaconda3/lib/python3.9/site-packages/sklearn/linear_model/_coordinate_descent.py:678: ConvergenceWarning: Objective did not converge. You might want to increase the number of iterations, check the scale of the features or consider increasing regularisation. Duality gap: 1.162e+09, tolerance: 8.306e+08\n",
      "/opt/anaconda3/lib/python3.9/site-packages/sklearn/linear_model/_coordinate_descent.py:678: ConvergenceWarning: Objective did not converge. You might want to increase the number of iterations, check the scale of the features or consider increasing regularisation. Duality gap: 4.770e+09, tolerance: 1.044e+09\n",
      "/opt/anaconda3/lib/python3.9/site-packages/sklearn/linear_model/_coordinate_descent.py:678: ConvergenceWarning: Objective did not converge. You might want to increase the number of iterations, check the scale of the features or consider increasing regularisation. Duality gap: 1.502e+09, tolerance: 9.229e+08\n",
      "/opt/anaconda3/lib/python3.9/site-packages/sklearn/linear_model/_coordinate_descent.py:678: ConvergenceWarning: Objective did not converge. You might want to increase the number of iterations, check the scale of the features or consider increasing regularisation. Duality gap: 9.370e+08, tolerance: 8.929e+08\n",
      "/opt/anaconda3/lib/python3.9/site-packages/sklearn/linear_model/_coordinate_descent.py:678: ConvergenceWarning: Objective did not converge. You might want to increase the number of iterations, check the scale of the features or consider increasing regularisation. Duality gap: 1.899e+09, tolerance: 8.414e+08\n",
      "/opt/anaconda3/lib/python3.9/site-packages/sklearn/linear_model/_coordinate_descent.py:678: ConvergenceWarning: Objective did not converge. You might want to increase the number of iterations, check the scale of the features or consider increasing regularisation. Duality gap: 3.319e+09, tolerance: 9.399e+08\n",
      "/opt/anaconda3/lib/python3.9/site-packages/sklearn/linear_model/_coordinate_descent.py:678: ConvergenceWarning: Objective did not converge. You might want to increase the number of iterations, check the scale of the features or consider increasing regularisation. Duality gap: 3.967e+09, tolerance: 9.276e+08\n",
      "/opt/anaconda3/lib/python3.9/site-packages/sklearn/linear_model/_coordinate_descent.py:678: ConvergenceWarning: Objective did not converge. You might want to increase the number of iterations, check the scale of the features or consider increasing regularisation. Duality gap: 1.696e+09, tolerance: 7.728e+08\n",
      "/opt/anaconda3/lib/python3.9/site-packages/sklearn/linear_model/_coordinate_descent.py:678: ConvergenceWarning: Objective did not converge. You might want to increase the number of iterations, check the scale of the features or consider increasing regularisation. Duality gap: 2.113e+09, tolerance: 8.678e+08\n",
      "/opt/anaconda3/lib/python3.9/site-packages/sklearn/linear_model/_coordinate_descent.py:678: ConvergenceWarning: Objective did not converge. You might want to increase the number of iterations, check the scale of the features or consider increasing regularisation. Duality gap: 4.096e+09, tolerance: 8.668e+08\n",
      "/opt/anaconda3/lib/python3.9/site-packages/sklearn/linear_model/_coordinate_descent.py:678: ConvergenceWarning: Objective did not converge. You might want to increase the number of iterations, check the scale of the features or consider increasing regularisation. Duality gap: 3.097e+09, tolerance: 8.417e+08\n",
      "/opt/anaconda3/lib/python3.9/site-packages/sklearn/linear_model/_coordinate_descent.py:678: ConvergenceWarning: Objective did not converge. You might want to increase the number of iterations, check the scale of the features or consider increasing regularisation. Duality gap: 1.039e+09, tolerance: 8.914e+08\n",
      "/opt/anaconda3/lib/python3.9/site-packages/sklearn/linear_model/_coordinate_descent.py:678: ConvergenceWarning: Objective did not converge. You might want to increase the number of iterations, check the scale of the features or consider increasing regularisation. Duality gap: 2.674e+09, tolerance: 9.587e+08\n",
      "/opt/anaconda3/lib/python3.9/site-packages/sklearn/linear_model/_coordinate_descent.py:678: ConvergenceWarning: Objective did not converge. You might want to increase the number of iterations, check the scale of the features or consider increasing regularisation. Duality gap: 1.103e+09, tolerance: 8.639e+08\n",
      "/opt/anaconda3/lib/python3.9/site-packages/sklearn/linear_model/_coordinate_descent.py:678: ConvergenceWarning: Objective did not converge. You might want to increase the number of iterations, check the scale of the features or consider increasing regularisation. Duality gap: 2.521e+09, tolerance: 9.944e+08\n",
      "/opt/anaconda3/lib/python3.9/site-packages/sklearn/linear_model/_coordinate_descent.py:678: ConvergenceWarning: Objective did not converge. You might want to increase the number of iterations, check the scale of the features or consider increasing regularisation. Duality gap: 1.041e+09, tolerance: 9.139e+08\n",
      "/opt/anaconda3/lib/python3.9/site-packages/sklearn/linear_model/_coordinate_descent.py:678: ConvergenceWarning: Objective did not converge. You might want to increase the number of iterations, check the scale of the features or consider increasing regularisation. Duality gap: 1.951e+09, tolerance: 9.107e+08\n",
      "/opt/anaconda3/lib/python3.9/site-packages/sklearn/linear_model/_coordinate_descent.py:678: ConvergenceWarning: Objective did not converge. You might want to increase the number of iterations, check the scale of the features or consider increasing regularisation. Duality gap: 2.719e+09, tolerance: 8.289e+08\n",
      "/opt/anaconda3/lib/python3.9/site-packages/sklearn/linear_model/_coordinate_descent.py:678: ConvergenceWarning: Objective did not converge. You might want to increase the number of iterations, check the scale of the features or consider increasing regularisation. Duality gap: 3.772e+09, tolerance: 8.382e+08\n",
      "/opt/anaconda3/lib/python3.9/site-packages/sklearn/linear_model/_coordinate_descent.py:678: ConvergenceWarning: Objective did not converge. You might want to increase the number of iterations, check the scale of the features or consider increasing regularisation. Duality gap: 3.291e+09, tolerance: 9.366e+08\n",
      "/opt/anaconda3/lib/python3.9/site-packages/sklearn/linear_model/_coordinate_descent.py:678: ConvergenceWarning: Objective did not converge. You might want to increase the number of iterations, check the scale of the features or consider increasing regularisation. Duality gap: 1.294e+09, tolerance: 8.955e+08\n",
      "/opt/anaconda3/lib/python3.9/site-packages/sklearn/linear_model/_coordinate_descent.py:678: ConvergenceWarning: Objective did not converge. You might want to increase the number of iterations, check the scale of the features or consider increasing regularisation. Duality gap: 1.429e+09, tolerance: 8.113e+08\n",
      "/opt/anaconda3/lib/python3.9/site-packages/sklearn/linear_model/_coordinate_descent.py:678: ConvergenceWarning: Objective did not converge. You might want to increase the number of iterations, check the scale of the features or consider increasing regularisation. Duality gap: 3.931e+09, tolerance: 8.702e+08\n",
      "/opt/anaconda3/lib/python3.9/site-packages/sklearn/linear_model/_coordinate_descent.py:678: ConvergenceWarning: Objective did not converge. You might want to increase the number of iterations, check the scale of the features or consider increasing regularisation. Duality gap: 1.619e+09, tolerance: 8.996e+08\n",
      "/opt/anaconda3/lib/python3.9/site-packages/sklearn/linear_model/_coordinate_descent.py:678: ConvergenceWarning: Objective did not converge. You might want to increase the number of iterations, check the scale of the features or consider increasing regularisation. Duality gap: 1.150e+09, tolerance: 8.148e+08\n",
      "/opt/anaconda3/lib/python3.9/site-packages/sklearn/linear_model/_coordinate_descent.py:678: ConvergenceWarning: Objective did not converge. You might want to increase the number of iterations, check the scale of the features or consider increasing regularisation. Duality gap: 1.897e+09, tolerance: 1.019e+09\n"
     ]
    },
    {
     "name": "stdout",
     "output_type": "stream",
     "text": [
      "Lasso coefficients mean: Lot Area            6618.490871\n",
      "Overall Qual       28251.679104\n",
      "Overall Cond        4905.008176\n",
      "Year Built         15505.512802\n",
      "Year Remod/Add      1415.013580\n",
      "1st Flr SF         35098.891132\n",
      "2nd Flr SF         27440.989205\n",
      "Low Qual Fin SF      677.160859\n",
      "Gr Liv Area         4200.773442\n",
      "Full Bath          -2677.795794\n",
      "Half Bath          -2148.448959\n",
      "Bedroom AbvGr      -7405.886316\n",
      "Kitchen AbvGr      -4996.562976\n",
      "TotRms AbvGrd       2444.179288\n",
      "Fireplaces          1274.973854\n",
      "Wood Deck SF        4328.047321\n",
      "Open Porch SF      -2601.542408\n",
      "Enclosed Porch       630.313694\n",
      "3Ssn Porch           196.103042\n",
      "Screen Porch        4705.348908\n",
      "Pool Area           -233.874147\n",
      "Misc Val           -8306.039901\n",
      "Mo Sold             1190.581925\n",
      "dtype: float64\n",
      "Lasso coefficients std: Lot Area           1519.416562\n",
      "Overall Qual       2345.706357\n",
      "Overall Cond       1050.182989\n",
      "Year Built         1740.491251\n",
      "Year Remod/Add     1455.816500\n",
      "1st Flr SF         4655.456886\n",
      "2nd Flr SF         5197.036406\n",
      "Low Qual Fin SF    1113.222858\n",
      "Gr Liv Area         902.127509\n",
      "Full Bath          1821.479468\n",
      "Half Bath          1684.017357\n",
      "Bedroom AbvGr      2157.022754\n",
      "Kitchen AbvGr      1207.828360\n",
      "TotRms AbvGrd      3073.683701\n",
      "Fireplaces         1701.898121\n",
      "Wood Deck SF       1471.068373\n",
      "Open Porch SF      1660.039913\n",
      "Enclosed Porch     1102.518108\n",
      "3Ssn Porch          714.576922\n",
      "Screen Porch       1457.697534\n",
      "Pool Area          2616.381540\n",
      "Misc Val           7151.780145\n",
      "Mo Sold            1069.814389\n",
      "dtype: float64\n",
      "Ridge coefficients mean: Lot Area            6616.552464\n",
      "Overall Qual       28233.427225\n",
      "Overall Cond        4891.178208\n",
      "Year Built         15466.068486\n",
      "Year Remod/Add      1440.419105\n",
      "1st Flr SF         20320.737098\n",
      "2nd Flr SF         10914.191800\n",
      "Low Qual Fin SF     -921.489349\n",
      "Gr Liv Area        24050.393575\n",
      "Full Bath          -2636.303487\n",
      "Half Bath          -2120.796428\n",
      "Bedroom AbvGr      -7394.822406\n",
      "Kitchen AbvGr      -5002.090924\n",
      "TotRms AbvGrd       2474.187706\n",
      "Fireplaces          1294.953358\n",
      "Wood Deck SF        4333.845981\n",
      "Open Porch SF      -2594.509338\n",
      "Enclosed Porch       628.300999\n",
      "3Ssn Porch           196.257170\n",
      "Screen Porch        4702.680111\n",
      "Pool Area           -229.410550\n",
      "Misc Val           -8296.034086\n",
      "Mo Sold             1190.304082\n",
      "dtype: float64\n",
      "Ridge coefficients std: Lot Area           1518.098987\n",
      "Overall Qual       2337.378391\n",
      "Overall Cond       1047.465117\n",
      "Year Built         1730.451592\n",
      "Year Remod/Add     1452.086981\n",
      "1st Flr SF         2612.612598\n",
      "2nd Flr SF         2795.269910\n",
      "Low Qual Fin SF    1061.270397\n",
      "Gr Liv Area        3655.069535\n",
      "Full Bath          1815.156438\n",
      "Half Bath          1678.159526\n",
      "Bedroom AbvGr      2151.268754\n",
      "Kitchen AbvGr      1205.581878\n",
      "TotRms AbvGrd      3061.366133\n",
      "Fireplaces         1699.062322\n",
      "Wood Deck SF       1469.987579\n",
      "Open Porch SF      1658.658455\n",
      "Enclosed Porch     1101.707013\n",
      "3Ssn Porch          714.671497\n",
      "Screen Porch       1456.828579\n",
      "Pool Area          2616.969020\n",
      "Misc Val           7141.311017\n",
      "Mo Sold            1069.442478\n",
      "dtype: float64\n",
      "Elastic Net coefficients mean: Lot Area            5353.943940\n",
      "Overall Qual       19623.875357\n",
      "Overall Cond        1554.188758\n",
      "Year Built          9279.851391\n",
      "Year Remod/Add      6351.275852\n",
      "1st Flr SF         14149.459671\n",
      "2nd Flr SF          4479.965958\n",
      "Low Qual Fin SF     -713.120910\n",
      "Gr Liv Area        14148.028738\n",
      "Full Bath           4993.066761\n",
      "Half Bath           2281.435540\n",
      "Bedroom AbvGr      -2756.241038\n",
      "Kitchen AbvGr      -4492.868639\n",
      "TotRms AbvGrd       5501.614368\n",
      "Fireplaces          5877.502939\n",
      "Wood Deck SF        5182.085685\n",
      "Open Porch SF        374.173095\n",
      "Enclosed Porch      -116.833311\n",
      "3Ssn Porch           236.975582\n",
      "Screen Porch        3517.003328\n",
      "Pool Area            657.494109\n",
      "Misc Val           -4563.123578\n",
      "Mo Sold             1014.447866\n",
      "dtype: float64\n",
      "Elastic Net coefficients std: Lot Area           1039.939803\n",
      "Overall Qual        908.114967\n",
      "Overall Cond        545.770295\n",
      "Year Built          516.067437\n",
      "Year Remod/Add      562.326379\n",
      "1st Flr SF         1391.643420\n",
      "2nd Flr SF         1086.980890\n",
      "Low Qual Fin SF     853.992822\n",
      "Gr Liv Area        1366.081800\n",
      "Full Bath           795.476964\n",
      "Half Bath           675.668705\n",
      "Bedroom AbvGr       925.908736\n",
      "Kitchen AbvGr       616.738769\n",
      "TotRms AbvGrd       841.557635\n",
      "Fireplaces          779.490380\n",
      "Wood Deck SF       1019.490825\n",
      "Open Porch SF      1055.616459\n",
      "Enclosed Porch      552.316755\n",
      "3Ssn Porch          439.718783\n",
      "Screen Porch       1063.320058\n",
      "Pool Area          1988.077106\n",
      "Misc Val           3604.295284\n",
      "Mo Sold             750.734644\n",
      "dtype: float64\n"
     ]
    }
   ],
   "source": [
    "from sklearn.utils import resample\n",
    "\n",
    "# Number of bootstrap samples to create\n",
    "n_bootstrap = 1000\n",
    "\n",
    "# DataFrames to store the coefficients for each bootstrap sample\n",
    "lasso_coefs = pd.DataFrame(index=range(n_bootstrap), columns=X.columns)\n",
    "ridge_coefs = pd.DataFrame(index=range(n_bootstrap), columns=X.columns)\n",
    "elastic_net_coefs = pd.DataFrame(index=range(n_bootstrap), columns=X.columns)\n",
    "\n",
    "lasso = Lasso(alpha=1)\n",
    "ridge = Ridge(alpha=1)\n",
    "elastic_net = ElasticNet(alpha=1, l1_ratio=0.5)\n",
    "\n",
    "# Create bootstrap samples and fit the models\n",
    "for i in range(n_bootstrap):\n",
    "    X_resample, y_resample = resample(X, y)\n",
    "    \n",
    "    scaler = StandardScaler()\n",
    "    X_resample = scaler.fit_transform(X_resample)\n",
    "    \n",
    "    lasso.fit(X_resample, y_resample)\n",
    "    ridge.fit(X_resample, y_resample)\n",
    "    elastic_net.fit(X_resample, y_resample)\n",
    "    \n",
    "    lasso_coefs.loc[i] = lasso.coef_\n",
    "    ridge_coefs.loc[i] = ridge.coef_\n",
    "    elastic_net_coefs.loc[i] = elastic_net.coef_\n",
    "\n",
    "# Calculate the mean and standard deviation of the coefficients for each variable\n",
    "lasso_coefs_mean = lasso_coefs.mean()\n",
    "lasso_coefs_std = lasso_coefs.std()\n",
    "\n",
    "ridge_coefs_mean = ridge_coefs.mean()\n",
    "ridge_coefs_std = ridge_coefs.std()\n",
    "\n",
    "elastic_net_coefs_mean = elastic_net_coefs.mean()\n",
    "elastic_net_coefs_std = elastic_net_coefs.std()\n",
    "\n",
    "print(\"Lasso coefficients mean:\", lasso_coefs_mean)\n",
    "print(\"Lasso coefficients std:\", lasso_coefs_std)\n",
    "\n",
    "print(\"Ridge coefficients mean:\", ridge_coefs_mean)\n",
    "print(\"Ridge coefficients std:\", ridge_coefs_std)\n",
    "\n",
    "print(\"Elastic Net coefficients mean:\", elastic_net_coefs_mean)\n",
    "print(\"Elastic Net coefficients std:\", elastic_net_coefs_std)"
   ]
  },
  {
   "cell_type": "markdown",
   "id": "b17b0e98",
   "metadata": {},
   "source": [
    "Your answer:\n",
    "\n",
    "~~~\n",
    "Please write your answer in full sentences.\n",
    "\n",
    "\n",
    "~~~\n",
    "\n",
    "- Based on all the models you've run, which result predicts the best?  Which one is most easy to understand?  Which method gives the most stable results?\n",
    "\n",
    "Your code:"
   ]
  },
  {
   "cell_type": "code",
   "execution_count": 11,
   "id": "6622903b",
   "metadata": {
    "Rmd_chunk_options": "echo=TRUE",
    "kernel": "Python3",
    "tags": [
     "report_cell"
    ]
   },
   "outputs": [
    {
     "name": "stdout",
     "output_type": "stream",
     "text": [
      "Lasso MSE: 1343504947.3395264 R2: 0.776630010960136\n",
      "Ridge MSE: 1345577067.9973917 R2: 0.7762855019432149\n",
      "Elastic Net MSE: 1318403923.5611014 R2: 0.7808032858091636\n"
     ]
    }
   ],
   "source": [
    "from sklearn.metrics import mean_squared_error, r2_score\n",
    "\n",
    "X_test = ames_raw_2009[['Lot Area', 'Overall Qual', 'Overall Cond', 'Year Built', 'Year Remod/Add', '1st Flr SF',\n",
    "       '2nd Flr SF', 'Low Qual Fin SF', 'Gr Liv Area', 'Full Bath',\n",
    "       'Half Bath', 'Bedroom AbvGr', 'Kitchen AbvGr', 'TotRms AbvGrd',\n",
    "       'Fireplaces', 'Wood Deck SF', 'Open Porch SF', 'Enclosed Porch',\n",
    "       '3Ssn Porch', 'Screen Porch', 'Pool Area', 'Misc Val', 'Mo Sold']]\n",
    "y_test = ames_raw_2009['SalePrice']\n",
    "\n",
    "# Scale the test data\n",
    "scaler = StandardScaler()\n",
    "X_train = scaler.fit_transform(X)\n",
    "X_test = scaler.transform(X_test)\n",
    "\n",
    "# Predict the target variable for the test data\n",
    "lasso_predictions = lasso.predict(X_test)\n",
    "ridge_predictions = ridge.predict(X_test)\n",
    "elastic_net_predictions = elastic_net.predict(X_test)\n",
    "\n",
    "# Calculate the MSE and R-squared for each model\n",
    "lasso_mse = mean_squared_error(y_test, lasso_predictions)\n",
    "ridge_mse = mean_squared_error(y_test, ridge_predictions)\n",
    "elastic_net_mse = mean_squared_error(y_test, elastic_net_predictions)\n",
    "\n",
    "lasso_r2 = r2_score(y_test, lasso_predictions)\n",
    "ridge_r2 = r2_score(y_test, ridge_predictions)\n",
    "elastic_net_r2 = r2_score(y_test, elastic_net_predictions)\n",
    "\n",
    "print(\"Lasso MSE:\", lasso_mse, \"R2:\", lasso_r2)\n",
    "print(\"Ridge MSE:\", ridge_mse, \"R2:\", ridge_r2)\n",
    "print(\"Elastic Net MSE:\", elastic_net_mse, \"R2:\", elastic_net_r2)"
   ]
  },
  {
   "cell_type": "markdown",
   "id": "1d683c9a",
   "metadata": {},
   "source": [
    "Your answer:\n",
    "\n",
    "~~~\n",
    "Please write your answer in full sentences.\n",
    "\n",
    "\n",
    "~~~"
   ]
  },
  {
   "cell_type": "markdown",
   "id": "31f56de0",
   "metadata": {},
   "source": [
    "## Problem Set"
   ]
  },
  {
   "cell_type": "markdown",
   "id": "bd5672d3",
   "metadata": {},
   "source": [
    "### Best Subset\n",
    "\n",
    "In this exercise, we will generate simulated data, and will then use this data to perform best subset selection.\n",
    "\n",
    "(a) Use the `normal()` function to generate a predictor $X$ of length $n = 100$, as well as a noise vector $\\epsilon$ of length $n = 100$.\n",
    "\n",
    "Your code:"
   ]
  },
  {
   "cell_type": "code",
   "execution_count": 4,
   "id": "6d24b2fd",
   "metadata": {
    "Rmd_chunk_options": "echo=TRUE",
    "kernel": "Python3",
    "tags": [
     "report_cell"
    ]
   },
   "outputs": [],
   "source": [
    "np.random.seed(0)\n",
    "X = np.random.normal(size=100)\n",
    "epsilon = np.random.normal(size=100)"
   ]
  },
  {
   "cell_type": "markdown",
   "id": "15fb8565",
   "metadata": {},
   "source": [
    "(b) Generate a response vector $Y$ of length $n = 100$ according to the model $$\\mathbf{y} = \\boldsymbol{\\beta}_0 + \\beta_1X + \\beta2X^2 + \\beta_3X^3 + \\epsilon$$, where $\\beta_{0}$ , $\\beta_{1}$, $\\beta_{2}$, and $\\beta_{3}$ are constants of your choice.\n",
    "\n",
    "Your code:"
   ]
  },
  {
   "cell_type": "code",
   "execution_count": 5,
   "id": "965de638",
   "metadata": {
    "Rmd_chunk_options": "echo=TRUE",
    "kernel": "Python3",
    "tags": [
     "report_cell"
    ]
   },
   "outputs": [],
   "source": [
    "beta_0 = 1\n",
    "beta_1 = 2\n",
    "beta_2 = 3\n",
    "beta_3 = 4\n",
    "\n",
    "Y = beta_0 + beta_1*X + beta_2*X**2 + beta_3*X**3 + epsilon"
   ]
  },
  {
   "cell_type": "markdown",
   "id": "20844507",
   "metadata": {
    "jupyter": {
     "source_hidden": true
    },
    "kernel": "Markdown",
    "tags": [
     "report_output"
    ]
   },
   "source": [
    "(c) Use the `regsubsets()` function to perform best subset selection in order to choose the best model containing the predictors $X$, $X^{2},\\dots,X^{10}$. What is the best model obtained according to $C_p$ , BIC, and adjusted $R^2$ ? Show some plots to provide evidence for your answer, and report the coefficients of the best model obtained. Note you will need to use the `data.frame()` function to create a single data set containing both $X$ and $Y$.\n",
    "\n",
    "Your code:"
   ]
  },
  {
   "cell_type": "code",
   "execution_count": 6,
   "id": "b14ff637",
   "metadata": {
    "Rmd_chunk_options": "echo=TRUE",
    "jupyter": {
     "source_hidden": true
    },
    "kernel": "Python3",
    "tags": [
     "report_cell"
    ]
   },
   "outputs": [
    {
     "name": "stdout",
     "output_type": "stream",
     "text": [
      "Best model predictors: ('X^2', 'X^3', 'X^5', 'X^8', 'X^10')\n",
      "Best model coefficients: [ 2.56309500e+00  5.68692397e+00 -2.75919650e-01  2.18256274e-02\n",
      " -3.67304543e-03]\n"
     ]
    }
   ],
   "source": [
    "import itertools\n",
    "from sklearn.linear_model import LinearRegression\n",
    "from sklearn.metrics import mean_squared_error, r2_score\n",
    "from sklearn.model_selection import train_test_split\n",
    "\n",
    "df = pd.DataFrame({f'X^{i}': X**i for i in range(1, 11)})\n",
    "df['Y'] = Y\n",
    "X_train, X_test, y_train, y_test = train_test_split(df.drop('Y', axis=1), df['Y'], test_size=0.2, random_state=0)\n",
    "\n",
    "best_mse = float('inf')\n",
    "best_r2 = 0\n",
    "best_model = None\n",
    "best_combination = None\n",
    "\n",
    "for r in range(1, len(df.columns)):\n",
    "    for combination in itertools.combinations(df.drop('Y', axis=1).columns, r):\n",
    "        \n",
    "        model = LinearRegression()\n",
    "        model.fit(X_train[list(combination)], y_train)\n",
    "        \n",
    "        predictions = model.predict(X_test[list(combination)])\n",
    "        mse = mean_squared_error(y_test, predictions)\n",
    "        r2 = r2_score(y_test, predictions)\n",
    "        \n",
    "        if mse < best_mse or r2 > best_r2:\n",
    "            best_mse = mse\n",
    "            best_r2 = r2\n",
    "            best_model = model\n",
    "            best_combination = combination\n",
    "\n",
    "print(\"Best model predictors:\", best_combination)\n",
    "print(\"Best model coefficients:\", best_model.coef_)"
   ]
  },
  {
   "cell_type": "markdown",
   "id": "b63f8423",
   "metadata": {},
   "source": [
    "Your answer:\n",
    "\n",
    "~~~\n",
    "Please write your answer in full sentences.\n",
    "\n",
    "\n",
    "~~~\n",
    "\n",
    "(d) Repeat (c), using forward stepwise selection and also using backwards stepwise selection. How does your answer compare to the results in (c)?\n",
    "\n",
    "Your code:"
   ]
  },
  {
   "cell_type": "code",
   "execution_count": 7,
   "id": "c2d285f9",
   "metadata": {
    "Rmd_chunk_options": "echo=TRUE",
    "kernel": "Python3",
    "tags": [
     "report_cell"
    ]
   },
   "outputs": [
    {
     "name": "stdout",
     "output_type": "stream",
     "text": [
      "Best model (forward selection): ('X^1', 'X^2', 'X^3', 'X^4', 'X^5', 'X^6', 'X^7', 'X^8', 'X^9', 'X^10')\n",
      "Best model (backward selection): ('X^1', 'X^2', 'X^3', 'X^4', 'X^5', 'X^6', 'X^7', 'X^8', 'X^9', 'X^10')\n"
     ]
    }
   ],
   "source": [
    "from mlxtend.feature_selection import SequentialFeatureSelector as SFS\n",
    "\n",
    "model = LinearRegression()\n",
    "\n",
    "# Forward\n",
    "sfs_forward = SFS(model, \n",
    "                  k_features=(1, len(df.columns)-1), \n",
    "                  forward=True, \n",
    "                  floating=False, \n",
    "                  scoring='neg_mean_squared_error',\n",
    "                  cv=0)\n",
    "\n",
    "sfs_forward = sfs_forward.fit(df.drop('Y', axis=1), df['Y'])\n",
    "\n",
    "# Backward\n",
    "sfs_backward = SFS(model, \n",
    "                   k_features=(1, len(df.columns)-1), \n",
    "                   forward=False, \n",
    "                   floating=False, \n",
    "                   scoring='neg_mean_squared_error',\n",
    "                   cv=0)\n",
    "\n",
    "sfs_backward = sfs_backward.fit(df.drop('Y', axis=1), df['Y'])\n",
    "\n",
    "print(\"Best model (forward selection):\", sfs_forward.k_feature_names_)\n",
    "print(\"Best model (backward selection):\", sfs_backward.k_feature_names_)"
   ]
  },
  {
   "cell_type": "markdown",
   "id": "489f6925",
   "metadata": {},
   "source": [
    "Your answer:\n",
    "\n",
    "~~~\n",
    "Please write your answer in full sentences.\n",
    "\n",
    "\n",
    "~~~\n",
    "\n",
    "(e) Now fit a lasso model to the simulated data, again using $X$, $X^{2},\\dots, X^{10}$ as predictors. Use cross-validation to select the optimal value of $\\lambda$. Create plots of the cross-validation error as a function of $\\lambda$. Report the resulting coefficient estimates, and discuss the results obtained.\n",
    "\n",
    "Your code:"
   ]
  },
  {
   "cell_type": "code",
   "execution_count": null,
   "id": "1193e2f4",
   "metadata": {
    "Rmd_chunk_options": "echo=TRUE",
    "kernel": "Python3",
    "tags": [
     "report_cell"
    ]
   },
   "outputs": [],
   "source": [
    "from sklearn.exceptions import DataConversionWarning\n",
    "warnings.filterwarnings(action='ignore', category=DataConversionWarning)\n",
    "from sklearn.linear_model import LassoCV\n",
    "\n",
    "lasso_cv = LassoCV(alphas=np.logspace(-4, 4, 100), cv=5)\n",
    "lasso_cv.fit(df.drop('Y', axis=1), df['Y'])\n",
    "\n",
    "print(\"Optimal alpha:\", lasso_cv.alpha_)\n",
    "print(\"Coefficient estimates:\", lasso_cv.coef_)"
   ]
  },
  {
   "cell_type": "code",
   "execution_count": 12,
   "id": "fb2eb814",
   "metadata": {},
   "outputs": [
    {
     "data": {
      "image/png": "[encoded data removed]",
      "text/plain": [
       "<Figure size 640x480 with 1 Axes>"
      ]
     },
     "metadata": {},
     "output_type": "display_data"
    }
   ],
   "source": [
    "mse_means = np.mean(lasso_cv.mse_path_, axis=1)\n",
    "mse_stds = np.std(lasso_cv.mse_path_, axis=1)\n",
    "plt.semilogx(lasso_cv.alphas_, mse_means, label='Mean MSE')\n",
    "plt.fill_between(lasso_cv.alphas_, mse_means - mse_stds, mse_means + mse_stds, alpha=0.2)\n",
    "plt.axvline(lasso_cv.alpha_, linestyle='--', color='k', label='Optimal alpha')\n",
    "plt.legend()\n",
    "plt.xlabel('Alpha')\n",
    "plt.ylabel('Mean squared error')\n",
    "plt.show()"
   ]
  },
  {
   "cell_type": "markdown",
   "id": "b26e08fd",
   "metadata": {},
   "source": [
    "Your answer:\n",
    "\n",
    "~~~\n",
    "Please write your answer in full sentences.\n",
    "\n",
    "\n",
    "~~~\n",
    "\n",
    "(f) Now generate a response vector Y according to the model $$Y = \\beta_{0} + \\beta_{7}X^{7} + \\epsilon,$$and perform best subset selection and the lasso. Discuss the results obtained.\n",
    "\n",
    "Your code:"
   ]
  },
  {
   "cell_type": "code",
   "execution_count": 14,
   "id": "f7d13701",
   "metadata": {
    "Rmd_chunk_options": "echo=TRUE",
    "kernel": "Python3",
    "tags": [
     "report_cell"
    ]
   },
   "outputs": [
    {
     "name": "stdout",
     "output_type": "stream",
     "text": [
      "Best model predictors (best subset selection): ('X^1', 'X^2', 'X^3', 'X^4', 'X^5', 'X^6', 'X^7', 'X^8', 'X^9', 'X^10')\n",
      "Best model coefficients (best subset selection): [-0.10252906 -1.3865441  -0.79907309  1.13573157  1.2122696  -0.32104323\n",
      "  1.57761883  0.02194905  0.04159304  0.00178827]\n",
      "Optimal alpha (lasso): 0.03853528593710531\n",
      "Coefficient estimates (lasso): [ 0.47217815 -1.17129018 -3.5102846   1.26102896  3.55090551 -0.35554031\n",
      "  0.90439494 -0.00357833  0.1025845   0.00724169]\n"
     ]
    }
   ],
   "source": [
    "beta_0 = 1\n",
    "beta_7 = 2\n",
    "\n",
    "Y = beta_0 + beta_7*(X**7) + epsilon\n",
    "\n",
    "df['Y'] = Y\n",
    "best_mse = float('inf')\n",
    "best_model = None\n",
    "best_combination = None\n",
    "\n",
    "for r in range(1, len(df.columns)):\n",
    "    for combination in itertools.combinations(df.drop('Y', axis=1).columns, r):\n",
    "        \n",
    "        model = LinearRegression()\n",
    "        model.fit(df[list(combination)], df['Y'])\n",
    "        \n",
    "        predictions = model.predict(df[list(combination)])\n",
    "        mse = mean_squared_error(df['Y'], predictions)\n",
    "        \n",
    "        if mse < best_mse:\n",
    "            best_mse = mse\n",
    "            best_model = model\n",
    "            best_combination = combination\n",
    "\n",
    "print(\"Best model predictors (best subset selection):\", best_combination)\n",
    "print(\"Best model coefficients (best subset selection):\", best_model.coef_)\n",
    "\n",
    "lasso_cv = LassoCV(alphas=np.logspace(-4, 4, 100), cv=5)\n",
    "lasso_cv.fit(df.drop('Y', axis=1), df['Y'])\n",
    "\n",
    "print(\"Optimal alpha (lasso):\", lasso_cv.alpha_)\n",
    "print(\"Coefficient estimates (lasso):\", lasso_cv.coef_)\n",
    "#"
   ]
  },
  {
   "cell_type": "markdown",
   "id": "db2ad06f",
   "metadata": {},
   "source": [
    "Your answer:\n",
    "\n",
    "~~~\n",
    "Please write your answer in full sentences.\n",
    "\n",
    "\n",
    "~~~"
   ]
  },
  {
   "cell_type": "markdown",
   "id": "db4219cd",
   "metadata": {},
   "source": [
    "### College\n",
    "\n",
    "In this exercise, we will predict the number of applications received using the other variables in the College data set."
   ]
  },
  {
   "cell_type": "code",
   "execution_count": 26,
   "id": "085947ee",
   "metadata": {
    "kernel": "Python3",
    "tags": [
     "report_cell"
    ]
   },
   "outputs": [],
   "source": [
    "from ISLP import load_data\n",
    "College = load_data(\"College\")"
   ]
  },
  {
   "cell_type": "markdown",
   "id": "8637fc88",
   "metadata": {},
   "source": [
    "(a) Split the data set into a training set and a test set.\n",
    "\n",
    "Your code:"
   ]
  },
  {
   "cell_type": "code",
   "execution_count": 16,
   "id": "b9dc8728",
   "metadata": {},
   "outputs": [
    {
     "data": {
      "text/html": [
       "<div>\n",
       "<style scoped>\n",
       "    .dataframe tbody tr th:only-of-type {\n",
       "        vertical-align: middle;\n",
       "    }\n",
       "\n",
       "    .dataframe tbody tr th {\n",
       "        vertical-align: top;\n",
       "    }\n",
       "\n",
       "    .dataframe thead th {\n",
       "        text-align: right;\n",
       "    }\n",
       "</style>\n",
       "<table border=\"1\" class=\"dataframe\">\n",
       "  <thead>\n",
       "    <tr style=\"text-align: right;\">\n",
       "      <th></th>\n",
       "      <th>Private</th>\n",
       "      <th>Apps</th>\n",
       "      <th>Accept</th>\n",
       "      <th>Enroll</th>\n",
       "      <th>Top10perc</th>\n",
       "      <th>Top25perc</th>\n",
       "      <th>F.Undergrad</th>\n",
       "      <th>P.Undergrad</th>\n",
       "      <th>Outstate</th>\n",
       "      <th>Room.Board</th>\n",
       "      <th>Books</th>\n",
       "      <th>Personal</th>\n",
       "      <th>PhD</th>\n",
       "      <th>Terminal</th>\n",
       "      <th>S.F.Ratio</th>\n",
       "      <th>perc.alumni</th>\n",
       "      <th>Expend</th>\n",
       "      <th>Grad.Rate</th>\n",
       "    </tr>\n",
       "  </thead>\n",
       "  <tbody>\n",
       "    <tr>\n",
       "      <th>0</th>\n",
       "      <td>Yes</td>\n",
       "      <td>1660</td>\n",
       "      <td>1232</td>\n",
       "      <td>721</td>\n",
       "      <td>23</td>\n",
       "      <td>52</td>\n",
       "      <td>2885</td>\n",
       "      <td>537</td>\n",
       "      <td>7440</td>\n",
       "      <td>3300</td>\n",
       "      <td>450</td>\n",
       "      <td>2200</td>\n",
       "      <td>70</td>\n",
       "      <td>78</td>\n",
       "      <td>18.1</td>\n",
       "      <td>12</td>\n",
       "      <td>7041</td>\n",
       "      <td>60</td>\n",
       "    </tr>\n",
       "    <tr>\n",
       "      <th>1</th>\n",
       "      <td>Yes</td>\n",
       "      <td>2186</td>\n",
       "      <td>1924</td>\n",
       "      <td>512</td>\n",
       "      <td>16</td>\n",
       "      <td>29</td>\n",
       "      <td>2683</td>\n",
       "      <td>1227</td>\n",
       "      <td>12280</td>\n",
       "      <td>6450</td>\n",
       "      <td>750</td>\n",
       "      <td>1500</td>\n",
       "      <td>29</td>\n",
       "      <td>30</td>\n",
       "      <td>12.2</td>\n",
       "      <td>16</td>\n",
       "      <td>10527</td>\n",
       "      <td>56</td>\n",
       "    </tr>\n",
       "    <tr>\n",
       "      <th>2</th>\n",
       "      <td>Yes</td>\n",
       "      <td>1428</td>\n",
       "      <td>1097</td>\n",
       "      <td>336</td>\n",
       "      <td>22</td>\n",
       "      <td>50</td>\n",
       "      <td>1036</td>\n",
       "      <td>99</td>\n",
       "      <td>11250</td>\n",
       "      <td>3750</td>\n",
       "      <td>400</td>\n",
       "      <td>1165</td>\n",
       "      <td>53</td>\n",
       "      <td>66</td>\n",
       "      <td>12.9</td>\n",
       "      <td>30</td>\n",
       "      <td>8735</td>\n",
       "      <td>54</td>\n",
       "    </tr>\n",
       "    <tr>\n",
       "      <th>3</th>\n",
       "      <td>Yes</td>\n",
       "      <td>417</td>\n",
       "      <td>349</td>\n",
       "      <td>137</td>\n",
       "      <td>60</td>\n",
       "      <td>89</td>\n",
       "      <td>510</td>\n",
       "      <td>63</td>\n",
       "      <td>12960</td>\n",
       "      <td>5450</td>\n",
       "      <td>450</td>\n",
       "      <td>875</td>\n",
       "      <td>92</td>\n",
       "      <td>97</td>\n",
       "      <td>7.7</td>\n",
       "      <td>37</td>\n",
       "      <td>19016</td>\n",
       "      <td>59</td>\n",
       "    </tr>\n",
       "    <tr>\n",
       "      <th>4</th>\n",
       "      <td>Yes</td>\n",
       "      <td>193</td>\n",
       "      <td>146</td>\n",
       "      <td>55</td>\n",
       "      <td>16</td>\n",
       "      <td>44</td>\n",
       "      <td>249</td>\n",
       "      <td>869</td>\n",
       "      <td>7560</td>\n",
       "      <td>4120</td>\n",
       "      <td>800</td>\n",
       "      <td>1500</td>\n",
       "      <td>76</td>\n",
       "      <td>72</td>\n",
       "      <td>11.9</td>\n",
       "      <td>2</td>\n",
       "      <td>10922</td>\n",
       "      <td>15</td>\n",
       "    </tr>\n",
       "  </tbody>\n",
       "</table>\n",
       "</div>"
      ],
      "text/plain": [
       "  Private  Apps  Accept  Enroll  Top10perc  Top25perc  F.Undergrad  \\\n",
       "0     Yes  1660    1232     721         23         52         2885   \n",
       "1     Yes  2186    1924     512         16         29         2683   \n",
       "2     Yes  1428    1097     336         22         50         1036   \n",
       "3     Yes   417     349     137         60         89          510   \n",
       "4     Yes   193     146      55         16         44          249   \n",
       "\n",
       "   P.Undergrad  Outstate  Room.Board  Books  Personal  PhD  Terminal  \\\n",
       "0          537      7440        3300    450      2200   70        78   \n",
       "1         1227     12280        6450    750      1500   29        30   \n",
       "2           99     11250        3750    400      1165   53        66   \n",
       "3           63     12960        5450    450       875   92        97   \n",
       "4          869      7560        4120    800      1500   76        72   \n",
       "\n",
       "   S.F.Ratio  perc.alumni  Expend  Grad.Rate  \n",
       "0       18.1           12    7041         60  \n",
       "1       12.2           16   10527         56  \n",
       "2       12.9           30    8735         54  \n",
       "3        7.7           37   19016         59  \n",
       "4       11.9            2   10922         15  "
      ]
     },
     "execution_count": 16,
     "metadata": {},
     "output_type": "execute_result"
    }
   ],
   "source": [
    "College.head()"
   ]
  },
  {
   "cell_type": "code",
   "execution_count": 27,
   "id": "7e244194",
   "metadata": {
    "Rmd_chunk_options": "echo=TRUE",
    "kernel": "Python3",
    "tags": [
     "report_cell"
    ]
   },
   "outputs": [],
   "source": [
    "from sklearn.model_selection import train_test_split\n",
    "\n",
    "X = College[['Accept', 'Enroll', 'Top10perc', 'Top25perc', 'F.Undergrad', 'P.Undergrad', 'Outstate', 'Room.Board', 'Books', 'Personal', 'PhD', 'Terminal', 'S.F.Ratio', 'perc.alumni', 'Expend', 'Grad.Rate']]\n",
    "Y = College['Apps']\n",
    "\n",
    "X_train, X_test, y_train, y_test = train_test_split(X, Y, test_size=0.2, random_state=0)\n"
   ]
  },
  {
   "cell_type": "markdown",
   "id": "08f0fc19",
   "metadata": {},
   "source": [
    "(b) Fit a linear model using least squares on the training set, and report the test error obtained.\n",
    "\n",
    "Your code:"
   ]
  },
  {
   "cell_type": "code",
   "execution_count": 31,
   "id": "8025e3aa",
   "metadata": {
    "Rmd_chunk_options": "echo=TRUE",
    "kernel": "Python3",
    "tags": [
     "report_cell"
    ]
   },
   "outputs": [
    {
     "name": "stdout",
     "output_type": "stream",
     "text": [
      "Test error: 1182113.6667499898\n"
     ]
    }
   ],
   "source": [
    "Collegefit = sm.OLS(y_train, sm.add_constant(X_train)).fit()\n",
    "test_error = mean_squared_error(y_test, Collegefit.predict(sm.add_constant(X_test)))\n",
    "print(\"Test error:\", test_error)"
   ]
  },
  {
   "cell_type": "markdown",
   "id": "681ece4f",
   "metadata": {},
   "source": [
    "Your answer:\n",
    "\n",
    "~~~\n",
    "Please write your answer in full sentences.\n",
    "\n",
    "\n",
    "~~~\n",
    "\n",
    "(c) Fit a ridge regression model on the training set, with $\\lambda$ chosen by cross-validation. Report the test error obtained.\n",
    "\n",
    "\n",
    "Your code:"
   ]
  },
  {
   "cell_type": "code",
   "execution_count": 36,
   "id": "e97b26f1",
   "metadata": {
    "Rmd_chunk_options": "echo=TRUE",
    "kernel": "Python3",
    "tags": [
     "report_cell"
    ]
   },
   "outputs": [
    {
     "name": "stdout",
     "output_type": "stream",
     "text": [
      "Test error: 1176582.2777169177\n"
     ]
    }
   ],
   "source": [
    "from sklearn.linear_model import RidgeCV\n",
    "ridge_cv = RidgeCV(alphas=np.logspace(-4, 4, 100), cv=5)\n",
    "\n",
    "ridge_cv.fit(X_train, y_train)\n",
    "y_pred = ridge_cv.predict(X_test)\n",
    "\n",
    "test_error = mean_squared_error(y_test, y_pred)\n",
    "non_zero_coefs = np.sum(ridge_cv.coef_ != 0)\n",
    "\n",
    "print(\"Test error:\", test_error)"
   ]
  },
  {
   "cell_type": "markdown",
   "id": "a0cfab37",
   "metadata": {},
   "source": [
    "Your answer:\n",
    "\n",
    "~~~\n",
    "Please write your answer in full sentences.\n",
    "\n",
    "\n",
    "~~~\n",
    "\n",
    "(d) Fit a lasso model on the training set, with $\\lambda$ chosen by crossvalidation. Report the test error obtained, along with the number of non-zero coefficient estimates.\n",
    "\n",
    "Your code:"
   ]
  },
  {
   "cell_type": "code",
   "execution_count": 33,
   "id": "d6bac610",
   "metadata": {
    "Rmd_chunk_options": "echo=TRUE",
    "kernel": "Python3",
    "tags": [
     "report_cell"
    ]
   },
   "outputs": [
    {
     "name": "stdout",
     "output_type": "stream",
     "text": [
      "Test error: 1179086.2236392866\n",
      "Number of non-zero coefficients: 16\n"
     ]
    }
   ],
   "source": [
    "lasso_cv = LassoCV(alphas=np.logspace(-4, 4, 100), cv=5)\n",
    "\n",
    "lasso_cv.fit(X_train, y_train)\n",
    "y_pred = lasso_cv.predict(X_test)\n",
    "\n",
    "test_error = mean_squared_error(y_test, y_pred)\n",
    "non_zero_coefs = np.sum(lasso_cv.coef_ != 0)\n",
    "\n",
    "print(\"Test error:\", test_error)\n",
    "print(\"Number of non-zero coefficients:\", non_zero_coefs)"
   ]
  },
  {
   "cell_type": "markdown",
   "id": "dc8348d3",
   "metadata": {},
   "source": [
    "Your answer:\n",
    "\n",
    "~~~\n",
    "Please write your answer in full sentences.\n",
    "\n",
    "\n",
    "~~~\n",
    "\n",
    "(e) Fit a PCR model on the training set, with M chosen by crossvalidation. Report the test error obtained, along with the value of M selected by cross-validation.\n",
    "\n",
    "\n",
    "Your code:"
   ]
  },
  {
   "cell_type": "code",
   "execution_count": 37,
   "id": "e98c54fa",
   "metadata": {
    "Rmd_chunk_options": "echo=TRUE",
    "kernel": "Python3",
    "tags": [
     "report_cell"
    ]
   },
   "outputs": [
    {
     "name": "stdout",
     "output_type": "stream",
     "text": [
      "Test error: 1195536.8254705518\n",
      "Optimal number of components: 15\n"
     ]
    }
   ],
   "source": [
    "from sklearn.decomposition import PCA\n",
    "from sklearn.linear_model import LinearRegression\n",
    "from sklearn.pipeline import make_pipeline\n",
    "from sklearn.model_selection import cross_val_score\n",
    "\n",
    "n_components = X_train.shape[1]\n",
    "\n",
    "best_score = -np.inf\n",
    "best_m = None\n",
    "\n",
    "for m in range(1, n_components + 1):\n",
    "\n",
    "    pcr = make_pipeline(PCA(n_components=m), LinearRegression())\n",
    "    scores = cross_val_score(pcr, X_train, y_train, cv=5, scoring='neg_mean_squared_error')\n",
    "    mean_score = np.mean(scores)\n",
    "    \n",
    "    if mean_score > best_score:\n",
    "        best_score = mean_score\n",
    "        best_m = m\n",
    "\n",
    "best_pcr = make_pipeline(PCA(n_components=best_m), LinearRegression())\n",
    "best_pcr.fit(X_train, y_train)\n",
    "\n",
    "y_pred = best_pcr.predict(X_test)\n",
    "\n",
    "test_error = mean_squared_error(y_test, y_pred)\n",
    "\n",
    "print(\"Test error:\", test_error)\n",
    "print(\"Optimal number of components:\", best_m)"
   ]
  },
  {
   "cell_type": "markdown",
   "id": "7706d54b",
   "metadata": {},
   "source": [
    "Your answer:\n",
    "\n",
    "~~~\n",
    "Please write your answer in full sentences.\n",
    "\n",
    "\n",
    "~~~\n",
    "\n",
    "(f) Fit a PLS model on the training set, with M chosen by crossvalidation. Report the test error obtained, along with the value of M selected by cross-validation.\n",
    "\n",
    "\n",
    "Your code:"
   ]
  },
  {
   "cell_type": "code",
   "execution_count": 38,
   "id": "a46994c9",
   "metadata": {
    "Rmd_chunk_options": "echo=TRUE",
    "kernel": "Python3",
    "tags": [
     "report_cell"
    ]
   },
   "outputs": [
    {
     "name": "stdout",
     "output_type": "stream",
     "text": [
      "Test error: 1195665.590741407\n",
      "Optimal number of components: 9\n"
     ]
    }
   ],
   "source": [
    "from sklearn.cross_decomposition import PLSRegression\n",
    "from sklearn.model_selection import cross_val_score\n",
    "\n",
    "n_components = min(X_train.shape)\n",
    "best_score = -np.inf\n",
    "best_m = None\n",
    "\n",
    "for m in range(1, n_components + 1):\n",
    "    \n",
    "    pls = PLSRegression(n_components=m)\n",
    "    \n",
    "    scores = cross_val_score(pls, X_train, y_train, cv=5, scoring='neg_mean_squared_error')\n",
    "    mean_score = np.mean(scores)    \n",
    "\n",
    "    if mean_score > best_score:\n",
    "        best_score = mean_score\n",
    "        best_m = m\n",
    "\n",
    "best_pls = PLSRegression(n_components=best_m)\n",
    "best_pls.fit(X_train, y_train)\n",
    "y_pred = best_pls.predict(X_test)\n",
    "\n",
    "test_error = mean_squared_error(y_test, y_pred)\n",
    "\n",
    "print(\"Test error:\", test_error)\n",
    "print(\"Optimal number of components:\", best_m)"
   ]
  },
  {
   "cell_type": "markdown",
   "id": "fefeedfd",
   "metadata": {},
   "source": [
    "Your answer:\n",
    "\n",
    "~~~\n",
    "Please write your answer in full sentences.\n",
    "\n",
    "\n",
    "~~~\n",
    "\n",
    "(g) Comment on the results obtained. How accurately can we predict the number of college applications received? Is there much difference among the test errors resulting from these five approaches?\n",
    "\n",
    "\n",
    "Your code:"
   ]
  },
  {
   "cell_type": "code",
   "execution_count": 39,
   "id": "5180c3ab",
   "metadata": {
    "Rmd_chunk_options": "echo=TRUE",
    "kernel": "Python3",
    "tags": [
     "report_cell"
    ]
   },
   "outputs": [],
   "source": [
    "test_error_dict = {}\n",
    "\n",
    "test_error = mean_squared_error(y_test, Collegefit.predict(sm.add_constant(X_test)))\n",
    "test_error_dict['OLS'] = test_error\n",
    "\n",
    "test_error = mean_squared_error(y_test, ridge_cv.predict(X_test))\n",
    "test_error_dict['Ridge'] = test_error\n",
    "\n",
    "test_error = mean_squared_error(y_test, lasso_cv.predict(X_test))\n",
    "test_error_dict['Lasso'] = test_error\n",
    "\n",
    "test_error = mean_squared_error(y_test, best_pcr.predict(X_test))\n",
    "test_error_dict['PCR'] = test_error\n",
    "\n",
    "test_error = mean_squared_error(y_test, best_pls.predict(X_test))\n",
    "test_error_dict['PLS'] = test_error"
   ]
  },
  {
   "cell_type": "code",
   "execution_count": 40,
   "id": "60c095c4",
   "metadata": {},
   "outputs": [
    {
     "name": "stdout",
     "output_type": "stream",
     "text": [
      "OLS test error: 1182113.6667499898\n",
      "Ridge test error: 1176582.2777169177\n",
      "Lasso test error: 1179086.2236392866\n",
      "PCR test error: 1195536.8254705518\n",
      "PLS test error: 1195665.590741407\n"
     ]
    }
   ],
   "source": [
    "for model, error in test_error_dict.items():\n",
    "    print(f\"{model} test error:\", error)"
   ]
  },
  {
   "cell_type": "markdown",
   "id": "58c2f5ec",
   "metadata": {},
   "source": [
    "Your answer:\n",
    "\n",
    "~~~\n",
    "Please write your answer in full sentences.\n",
    "\n",
    "\n",
    "~~~"
   ]
  },
  {
   "cell_type": "markdown",
   "id": "54725db8",
   "metadata": {},
   "source": [
    "### Features\n",
    "\n",
    "We have seen that as the number of features used in a model increases, the training error will necessarily decrease, but the test error may not. We will now explore this in a simulated data set.\n",
    "\n",
    "(a) Generate a data set with (p = 20) features, (n = 1,000) observations, and an associated quantitative response vector generated according to the model $$\\mathbf{y} = \\mathbf{X}\\boldsymbol{\\beta} + \\boldsymbol{\\epsilon}$$, where ($\\boldsymbol{\\beta}$) has some elements that are exactly equal to zero.\n",
    "\n",
    "Your code:"
   ]
  },
  {
   "cell_type": "code",
   "execution_count": 41,
   "id": "b70269dc",
   "metadata": {
    "Rmd_chunk_options": "echo=TRUE",
    "kernel": "Python3",
    "tags": [
     "report_cell"
    ]
   },
   "outputs": [],
   "source": [
    "import numpy as np\n",
    "\n",
    "np.random.seed(0)\n",
    "n = 1000\n",
    "p = 20\n",
    "\n",
    "X = np.random.normal(0, 1, (n, p))\n",
    "\n",
    "beta = np.random.normal(0, 1, p)\n",
    "beta[np.random.choice(range(p), 10)] = 0  #randomly set 10 coefficients to zero\n",
    "\n",
    "epsilon = np.random.normal(0, 1, n)\n",
    "\n",
    "Y = np.dot(X, beta) + epsilon"
   ]
  },
  {
   "cell_type": "markdown",
   "id": "2278cee4",
   "metadata": {},
   "source": [
    "Your answer:\n",
    "\n",
    "~~~\n",
    "Please write your answer in full sentences.\n",
    "\n",
    "\n",
    "~~~\n",
    "\n",
    "(b) Split your data set into a training set containing (100) observations and a test set containing (900) observations.\n",
    "\n",
    "\n",
    "Your code:"
   ]
  },
  {
   "cell_type": "code",
   "execution_count": 42,
   "id": "25ac076f",
   "metadata": {
    "Rmd_chunk_options": "echo=TRUE",
    "kernel": "Python3",
    "tags": [
     "report_cell"
    ]
   },
   "outputs": [],
   "source": [
    "X_train, X_test, y_train, y_test = train_test_split(X, Y, test_size=900, random_state=0)"
   ]
  },
  {
   "cell_type": "markdown",
   "id": "23fd8626",
   "metadata": {},
   "source": [
    "Your answer:\n",
    "\n",
    "~~~\n",
    "Please write your answer in full sentences.\n",
    "\n",
    "\n",
    "~~~\n",
    "\n",
    "(c) Perform best subset selection on the training set, and plot the training set MSE associated with the best model of each size.\n",
    "\n",
    "Your code:"
   ]
  },
  {
   "cell_type": "code",
   "execution_count": 44,
   "id": "01e68f9a",
   "metadata": {
    "Rmd_chunk_options": "echo=TRUE",
    "kernel": "Python3",
    "tags": [
     "report_cell"
    ]
   },
   "outputs": [
    {
     "data": {
      "image/png": "[encoded data removed]",
      "text/plain": [
       "<Figure size 640x480 with 1 Axes>"
      ]
     },
     "metadata": {},
     "output_type": "display_data"
    }
   ],
   "source": [
    "import numpy as np\n",
    "\n",
    "mse_dict = {}\n",
    "\n",
    "for k in range(1, p + 1):\n",
    "    best_mse = np.inf\n",
    "    for _ in range(1000):  # Perform 1000 iterations of random subsampling\n",
    "        subset = np.random.choice(range(p), k, replace=False)\n",
    "        X_train_subset = X_train[:, subset]\n",
    "        model = LinearRegression().fit(X_train_subset, y_train)\n",
    "        y_pred = model.predict(X_train_subset)\n",
    "        mse = mean_squared_error(y_train, y_pred)\n",
    "        if mse < best_mse:\n",
    "            best_mse = mse\n",
    "    mse_dict[k] = best_mse\n",
    "\n",
    "plt.plot(range(1, p + 1), list(mse_dict.values()))\n",
    "plt.xlabel('Model Size')\n",
    "plt.ylabel('Training Set MSE')\n",
    "plt.show()"
   ]
  },
  {
   "cell_type": "markdown",
   "id": "7832cd35",
   "metadata": {},
   "source": [
    "Your answer:\n",
    "\n",
    "~~~\n",
    "Please write your answer in full sentences.\n",
    "\n",
    "\n",
    "~~~\n",
    "\n",
    "(d) Plot the test set MSE associated with the best model of each size.\n",
    "\n",
    "Your code:"
   ]
  },
  {
   "cell_type": "code",
   "execution_count": 45,
   "id": "5a7a9b8b",
   "metadata": {
    "Rmd_chunk_options": "echo=TRUE",
    "kernel": "Python3",
    "tags": [
     "report_cell"
    ]
   },
   "outputs": [
    {
     "data": {
      "image/png": "[encoded data removed]",
      "text/plain": [
       "<Figure size 640x480 with 1 Axes>"
      ]
     },
     "metadata": {},
     "output_type": "display_data"
    }
   ],
   "source": [
    "mse_dict_test = {}\n",
    "\n",
    "for k in range(1, p + 1):\n",
    "    best_mse = np.inf\n",
    "    for _ in range(1000):\n",
    "        subset = np.random.choice(range(p), k, replace=False)\n",
    "        X_train_subset = X_train[:, subset]\n",
    "        X_test_subset = X_test[:, subset]\n",
    "        model = LinearRegression().fit(X_train_subset, y_train)\n",
    "        y_pred = model.predict(X_test_subset)\n",
    "        mse = mean_squared_error(y_test, y_pred)\n",
    "        if mse < best_mse:\n",
    "            best_mse = mse\n",
    "    mse_dict_test[k] = best_mse\n",
    "\n",
    "plt.plot(range(1, p + 1), list(mse_dict_test.values()))\n",
    "plt.xlabel('Model Size')\n",
    "plt.ylabel('Test Set MSE')\n",
    "plt.show()"
   ]
  },
  {
   "cell_type": "markdown",
   "id": "8999638c",
   "metadata": {},
   "source": [
    "Your answer:\n",
    "\n",
    "~~~\n",
    "Please write your answer in full sentences.\n",
    "\n",
    "\n",
    "~~~\n",
    "(e) For which model size does the test set MSE take on its minimum value? Comment on your results. If it takes on its minimum value for a model containing only an intercept or a model containing all of the features, then play around with the way that you are generating the data in (a) until you come up with a scenario in which the test set MSE is minimized for an intermediate model size.\n",
    "\n",
    "Your code:"
   ]
  },
  {
   "cell_type": "code",
   "execution_count": 47,
   "id": "5c0d3857",
   "metadata": {
    "Rmd_chunk_options": "echo=TRUE",
    "kernel": "Python3",
    "tags": [
     "report_cell"
    ]
   },
   "outputs": [
    {
     "name": "stdout",
     "output_type": "stream",
     "text": [
      "The test set MSE is minimized for a model size of: 15\n"
     ]
    }
   ],
   "source": [
    "min_mse_size = min(mse_dict_test, key=mse_dict_test.get)\n",
    "print(\"The test set MSE is minimized for a model size of:\", min_mse_size)"
   ]
  },
  {
   "cell_type": "markdown",
   "id": "079648c2",
   "metadata": {},
   "source": [
    "Your answer:\n",
    "\n",
    "~~~\n",
    "Please write your answer in full sentences.\n",
    "\n",
    "\n",
    "~~~\n",
    "\n",
    "(f) How does the model at which the test set MSE is minimized compare to the true model used to generate the data? Comment on the coefficient values.\n",
    "\n",
    "\n",
    "Your code:"
   ]
  },
  {
   "cell_type": "code",
   "execution_count": 48,
   "id": "af1a92ff",
   "metadata": {
    "Rmd_chunk_options": "echo=TRUE",
    "kernel": "Python3",
    "tags": [
     "report_cell"
    ]
   },
   "outputs": [
    {
     "name": "stdout",
     "output_type": "stream",
     "text": [
      "Coefficients of the model that minimizes the test set MSE: [ 0.12561078 -1.61994759  0.58637416 -0.05044919  0.00629626 -1.02284583\n",
      " -0.62924977  0.22898764 -0.08507076  0.87252086 -0.17147064 -0.31442682\n",
      "  0.21533815  0.68948894 -0.03887654]\n",
      "True coefficients: [ 0.33004589  0.          0.8181159   0.          0.          0.12048113\n",
      "  0.          0.         -0.86519    -0.15332035 -0.24049056 -0.06076335\n",
      "  0.          0.76440094  0.         -1.6823405   0.          0.93025508\n",
      "  0.40518261  0.20400248]\n"
     ]
    }
   ],
   "source": [
    "subset = np.random.choice(range(p), min_mse_size, replace=False)\n",
    "X_train_subset = X_train[:, subset]\n",
    "model = LinearRegression().fit(X_train_subset, y_train)\n",
    "\n",
    "print(\"Coefficients of the model that minimizes the test set MSE:\", model.coef_)\n",
    "\n",
    "print(\"True coefficients:\", beta)"
   ]
  },
  {
   "cell_type": "markdown",
   "id": "956f6a8a",
   "metadata": {},
   "source": [
    "Your answer:\n",
    "\n",
    "~~~\n",
    "Please write your answer in full sentences.\n",
    "\n",
    "\n",
    "~~~\n",
    "\n",
    "(g) Create a plot displaying $\\sqrt{\\sum_{j=1}^{p}(\\beta_{j}-\\hat{\\beta}_{j}^{r})^{2}}$ for a range of values of ($r$), where $\\hat{\\beta}_{j}^{r}$ is the $j$th coefficient estimate for the best model containing ($r$) coefficients. Comment on what you observe. How does this compare to the test MSE plot from (d)?\n",
    "\n",
    "\n",
    "Your code:"
   ]
  },
  {
   "cell_type": "code",
   "execution_count": 51,
   "id": "d66b71ea",
   "metadata": {
    "Rmd_chunk_options": "echo=TRUE",
    "kernel": "Python3",
    "tags": [
     "report_cell"
    ]
   },
   "outputs": [
    {
     "data": {
      "image/png": "[encoded data removed]",
      "text/plain": [
       "<Figure size 640x480 with 1 Axes>"
      ]
     },
     "metadata": {},
     "output_type": "display_data"
    }
   ],
   "source": [
    "import numpy as np\n",
    "\n",
    "ssd_dict = {}\n",
    "\n",
    "for r in range(1, p + 1):\n",
    "    \n",
    "    subset = np.random.choice(range(p), r, replace=False)\n",
    "    \n",
    "    X_train_subset = X_train[:, subset]\n",
    "    model = LinearRegression().fit(X_train_subset, y_train)\n",
    "\n",
    "    ssd = np.sum((beta[subset] - model.coef_)**2)\n",
    "\n",
    "    ssd_dict[r] = np.sqrt(ssd)\n",
    "\n",
    "plt.plot(range(1, p + 1), list(ssd_dict.values()))\n",
    "plt.xlabel('Model Size')\n",
    "plt.ylabel('Sum of Squared Differences')\n",
    "plt.show()"
   ]
  },
  {
   "cell_type": "markdown",
   "id": "04c04ede",
   "metadata": {},
   "source": [
    "Your answer:\n",
    "\n",
    "~~~\n",
    "Please write your answer in full sentences.\n",
    "\n",
    "\n",
    "~~~"
   ]
  },
  {
   "cell_type": "markdown",
   "id": "19bbd812",
   "metadata": {},
   "source": [
    "### Boston\n",
    "\n",
    "We will now try to predict per capita crime rate in the Boston data set."
   ]
  },
  {
   "cell_type": "code",
   "execution_count": 52,
   "id": "66a478bf",
   "metadata": {
    "kernel": "Python3",
    "tags": [
     "report_cell"
    ]
   },
   "outputs": [],
   "source": [
    "Boston = load_data(\"Boston\")"
   ]
  },
  {
   "cell_type": "code",
   "execution_count": 53,
   "id": "042b4d38",
   "metadata": {},
   "outputs": [
    {
     "data": {
      "text/html": [
       "<div>\n",
       "<style scoped>\n",
       "    .dataframe tbody tr th:only-of-type {\n",
       "        vertical-align: middle;\n",
       "    }\n",
       "\n",
       "    .dataframe tbody tr th {\n",
       "        vertical-align: top;\n",
       "    }\n",
       "\n",
       "    .dataframe thead th {\n",
       "        text-align: right;\n",
       "    }\n",
       "</style>\n",
       "<table border=\"1\" class=\"dataframe\">\n",
       "  <thead>\n",
       "    <tr style=\"text-align: right;\">\n",
       "      <th></th>\n",
       "      <th>crim</th>\n",
       "      <th>zn</th>\n",
       "      <th>indus</th>\n",
       "      <th>chas</th>\n",
       "      <th>nox</th>\n",
       "      <th>rm</th>\n",
       "      <th>age</th>\n",
       "      <th>dis</th>\n",
       "      <th>rad</th>\n",
       "      <th>tax</th>\n",
       "      <th>ptratio</th>\n",
       "      <th>lstat</th>\n",
       "      <th>medv</th>\n",
       "    </tr>\n",
       "  </thead>\n",
       "  <tbody>\n",
       "    <tr>\n",
       "      <th>0</th>\n",
       "      <td>0.00632</td>\n",
       "      <td>18.0</td>\n",
       "      <td>2.31</td>\n",
       "      <td>0</td>\n",
       "      <td>0.538</td>\n",
       "      <td>6.575</td>\n",
       "      <td>65.2</td>\n",
       "      <td>4.0900</td>\n",
       "      <td>1</td>\n",
       "      <td>296</td>\n",
       "      <td>15.3</td>\n",
       "      <td>4.98</td>\n",
       "      <td>24.0</td>\n",
       "    </tr>\n",
       "    <tr>\n",
       "      <th>1</th>\n",
       "      <td>0.02731</td>\n",
       "      <td>0.0</td>\n",
       "      <td>7.07</td>\n",
       "      <td>0</td>\n",
       "      <td>0.469</td>\n",
       "      <td>6.421</td>\n",
       "      <td>78.9</td>\n",
       "      <td>4.9671</td>\n",
       "      <td>2</td>\n",
       "      <td>242</td>\n",
       "      <td>17.8</td>\n",
       "      <td>9.14</td>\n",
       "      <td>21.6</td>\n",
       "    </tr>\n",
       "    <tr>\n",
       "      <th>2</th>\n",
       "      <td>0.02729</td>\n",
       "      <td>0.0</td>\n",
       "      <td>7.07</td>\n",
       "      <td>0</td>\n",
       "      <td>0.469</td>\n",
       "      <td>7.185</td>\n",
       "      <td>61.1</td>\n",
       "      <td>4.9671</td>\n",
       "      <td>2</td>\n",
       "      <td>242</td>\n",
       "      <td>17.8</td>\n",
       "      <td>4.03</td>\n",
       "      <td>34.7</td>\n",
       "    </tr>\n",
       "    <tr>\n",
       "      <th>3</th>\n",
       "      <td>0.03237</td>\n",
       "      <td>0.0</td>\n",
       "      <td>2.18</td>\n",
       "      <td>0</td>\n",
       "      <td>0.458</td>\n",
       "      <td>6.998</td>\n",
       "      <td>45.8</td>\n",
       "      <td>6.0622</td>\n",
       "      <td>3</td>\n",
       "      <td>222</td>\n",
       "      <td>18.7</td>\n",
       "      <td>2.94</td>\n",
       "      <td>33.4</td>\n",
       "    </tr>\n",
       "    <tr>\n",
       "      <th>4</th>\n",
       "      <td>0.06905</td>\n",
       "      <td>0.0</td>\n",
       "      <td>2.18</td>\n",
       "      <td>0</td>\n",
       "      <td>0.458</td>\n",
       "      <td>7.147</td>\n",
       "      <td>54.2</td>\n",
       "      <td>6.0622</td>\n",
       "      <td>3</td>\n",
       "      <td>222</td>\n",
       "      <td>18.7</td>\n",
       "      <td>5.33</td>\n",
       "      <td>36.2</td>\n",
       "    </tr>\n",
       "  </tbody>\n",
       "</table>\n",
       "</div>"
      ],
      "text/plain": [
       "      crim    zn  indus  chas    nox     rm   age     dis  rad  tax  ptratio  \\\n",
       "0  0.00632  18.0   2.31     0  0.538  6.575  65.2  4.0900    1  296     15.3   \n",
       "1  0.02731   0.0   7.07     0  0.469  6.421  78.9  4.9671    2  242     17.8   \n",
       "2  0.02729   0.0   7.07     0  0.469  7.185  61.1  4.9671    2  242     17.8   \n",
       "3  0.03237   0.0   2.18     0  0.458  6.998  45.8  6.0622    3  222     18.7   \n",
       "4  0.06905   0.0   2.18     0  0.458  7.147  54.2  6.0622    3  222     18.7   \n",
       "\n",
       "   lstat  medv  \n",
       "0   4.98  24.0  \n",
       "1   9.14  21.6  \n",
       "2   4.03  34.7  \n",
       "3   2.94  33.4  \n",
       "4   5.33  36.2  "
      ]
     },
     "execution_count": 53,
     "metadata": {},
     "output_type": "execute_result"
    }
   ],
   "source": [
    "Boston.head()"
   ]
  },
  {
   "cell_type": "markdown",
   "id": "f2b08af1",
   "metadata": {},
   "source": [
    "(a) Try out some of the regression methods explored in this chapter, such as best subset selection, the lasso, ridge regression, and PCR. Present and discuss results for the approaches that you consider.\n",
    "\n",
    "\n",
    "Your code:"
   ]
  },
  {
   "cell_type": "code",
   "execution_count": 56,
   "id": "c82dfd3b",
   "metadata": {
    "Rmd_chunk_options": "echo=TRUE",
    "kernel": "Python3",
    "tags": [
     "report_cell"
    ]
   },
   "outputs": [
    {
     "name": "stdout",
     "output_type": "stream",
     "text": [
      "Lasso score: 0.5430829007556452\n",
      "Ridge score: 0.5408805528539993\n",
      "PCR score: 0.4559243052128833\n"
     ]
    }
   ],
   "source": [
    "from sklearn.model_selection import train_test_split\n",
    "from sklearn.linear_model import LinearRegression, Lasso, Ridge\n",
    "from sklearn.decomposition import PCA\n",
    "from sklearn.pipeline import make_pipeline\n",
    "from sklearn.preprocessing import StandardScaler\n",
    "\n",
    "X = Boston[['zn', 'indus', 'chas', 'nox', 'rm', 'age', 'dis', 'rad', 'tax', 'ptratio', 'lstat', 'medv']]\n",
    "y = Boston['crim']\n",
    "\n",
    "X_train, X_test, y_train, y_test = train_test_split(X, y, test_size=0.2, random_state=42)\n",
    "\n",
    "# Best subset selection (using Lasso for simplicity)\n",
    "lasso = Lasso(alpha=0.1)\n",
    "lasso.fit(X_train, y_train)\n",
    "lasso_score = lasso.score(X_test, y_test)\n",
    "\n",
    "# Ridge regression\n",
    "ridge = Ridge(alpha=1.0)\n",
    "ridge.fit(X_train, y_train)\n",
    "ridge_score = ridge.score(X_test, y_test)\n",
    "\n",
    "# PCR\n",
    "pca = PCA(n_components=5)  # Use the first 5 principal components\n",
    "linear_regression = LinearRegression()\n",
    "pipeline = make_pipeline(StandardScaler(), pca, linear_regression)\n",
    "pipeline.fit(X_train, y_train)\n",
    "pcr_score = pipeline.score(X_test, y_test)\n",
    "\n",
    "print(\"Lasso score:\", lasso_score)\n",
    "print(\"Ridge score:\", ridge_score)\n",
    "print(\"PCR score:\", pcr_score)"
   ]
  },
  {
   "cell_type": "markdown",
   "id": "82f82816",
   "metadata": {},
   "source": [
    "Your answer:\n",
    "\n",
    "~~~\n",
    "Please write your answer in full sentences.\n",
    "\n",
    "\n",
    "~~~\n",
    "\n",
    "(b) Propose a model (or set of models) that seem to perform well on this data set, and justify your answer. Make sure that you are evaluating model performance using validation set error, crossvalidation, or some other reasonable alternative, as opposed to using training error.\n",
    "\n",
    "\n",
    "Your code:"
   ]
  },
  {
   "cell_type": "code",
   "execution_count": 59,
   "id": "9491a43c",
   "metadata": {
    "Rmd_chunk_options": "echo=TRUE",
    "kernel": "Python3",
    "tags": [
     "report_cell"
    ]
   },
   "outputs": [
    {
     "name": "stdout",
     "output_type": "stream",
     "text": [
      "Average Lasso cross-validation score: 0.48739083636388714\n",
      "Average Ridge cross-validation score: 0.48581768334300507\n",
      "Average PCR cross-validation score: 0.44335775589106385\n"
     ]
    }
   ],
   "source": [
    "from sklearn.model_selection import cross_val_score, KFold\n",
    "from sklearn.linear_model import LinearRegression, Lasso, Ridge\n",
    "from sklearn.decomposition import PCA\n",
    "from sklearn.pipeline import make_pipeline\n",
    "from sklearn.preprocessing import StandardScaler\n",
    "\n",
    "kf = KFold(n_splits=5, shuffle=True, random_state=42)\n",
    "\n",
    "lasso = Lasso(alpha=0.1)\n",
    "lasso_scores = cross_val_score(lasso, X, y, cv=kf)\n",
    "\n",
    "ridge = Ridge(alpha=1.0)\n",
    "ridge_scores = cross_val_score(ridge, X, y, cv=kf)\n",
    "\n",
    "pca = PCA(n_components=5) \n",
    "linear_regression = LinearRegression()\n",
    "pipeline = make_pipeline(StandardScaler(), pca, linear_regression)\n",
    "pcr_scores = cross_val_score(pipeline, X, y, cv=kf)\n",
    "\n",
    "print(\"Average Lasso cross-validation score:\", np.mean(lasso_scores))\n",
    "print(\"Average Ridge cross-validation score:\", np.mean(ridge_scores))\n",
    "print(\"Average PCR cross-validation score:\", np.mean(pcr_scores))"
   ]
  },
  {
   "cell_type": "markdown",
   "id": "6ac49bd8",
   "metadata": {},
   "source": [
    "Your answer:\n",
    "\n",
    "~~~\n",
    "Please write your answer in full sentences.\n",
    "\n",
    "\n",
    "~~~\n",
    "\n",
    "(c) Does your chosen model involve all of the features in the data set? Why or why not?\n",
    "\n",
    "\n",
    "Your code:"
   ]
  },
  {
   "cell_type": "code",
   "execution_count": 76,
   "id": "a141c3c2",
   "metadata": {
    "Rmd_chunk_options": "echo=TRUE",
    "kernel": "Python3",
    "tags": [
     "report_cell"
    ]
   },
   "outputs": [
    {
     "name": "stdout",
     "output_type": "stream",
     "text": [
      "Lasso coefficients: [ 0.04563022 -0.10085054 -0.         -0.          0.18869936 -0.00530887\n",
      " -0.75475     0.57752705 -0.00350839 -0.13703832  0.12809856 -0.17750585]\n",
      "Ridge coefficients: [ 4.58613728e-02 -7.54055863e-02 -8.53463159e-01 -5.95729164e+00\n",
      "  6.25829081e-01 -4.32503261e-03 -9.42429021e-01  6.01297597e-01\n",
      " -3.93534609e-03 -2.51423072e-01  1.40395403e-01 -2.10712363e-01]\n",
      "PCR coefficients: [-1.90306309 -0.27286546 -2.27730675  0.6229764   0.96654028]\n"
     ]
    }
   ],
   "source": [
    "# Fit the models and print the coefficients\n",
    "lasso.fit(X, y)\n",
    "print(\"Lasso coefficients:\", lasso.coef_)\n",
    "\n",
    "ridge.fit(X, y)\n",
    "print(\"Ridge coefficients:\", ridge.coef_)\n",
    "\n",
    "# For PCR, the coefficients are of the linear regression model after PCA\n",
    "pipeline.fit(X, y)\n",
    "print(\"PCR coefficients:\", pipeline.named_steps['linearregression'].coef_)"
   ]
  },
  {
   "cell_type": "code",
   "execution_count": 78,
   "id": "ac9538b6",
   "metadata": {},
   "outputs": [
    {
     "data": {
      "text/html": [
       "<div>\n",
       "<style scoped>\n",
       "    .dataframe tbody tr th:only-of-type {\n",
       "        vertical-align: middle;\n",
       "    }\n",
       "\n",
       "    .dataframe tbody tr th {\n",
       "        vertical-align: top;\n",
       "    }\n",
       "\n",
       "    .dataframe thead th {\n",
       "        text-align: right;\n",
       "    }\n",
       "</style>\n",
       "<table border=\"1\" class=\"dataframe\">\n",
       "  <thead>\n",
       "    <tr style=\"text-align: right;\">\n",
       "      <th></th>\n",
       "      <th>chas</th>\n",
       "      <th>nox</th>\n",
       "    </tr>\n",
       "  </thead>\n",
       "  <tbody>\n",
       "    <tr>\n",
       "      <th>0</th>\n",
       "      <td>0</td>\n",
       "      <td>0.538</td>\n",
       "    </tr>\n",
       "    <tr>\n",
       "      <th>1</th>\n",
       "      <td>0</td>\n",
       "      <td>0.469</td>\n",
       "    </tr>\n",
       "    <tr>\n",
       "      <th>2</th>\n",
       "      <td>0</td>\n",
       "      <td>0.469</td>\n",
       "    </tr>\n",
       "    <tr>\n",
       "      <th>3</th>\n",
       "      <td>0</td>\n",
       "      <td>0.458</td>\n",
       "    </tr>\n",
       "    <tr>\n",
       "      <th>4</th>\n",
       "      <td>0</td>\n",
       "      <td>0.458</td>\n",
       "    </tr>\n",
       "    <tr>\n",
       "      <th>...</th>\n",
       "      <td>...</td>\n",
       "      <td>...</td>\n",
       "    </tr>\n",
       "    <tr>\n",
       "      <th>501</th>\n",
       "      <td>0</td>\n",
       "      <td>0.573</td>\n",
       "    </tr>\n",
       "    <tr>\n",
       "      <th>502</th>\n",
       "      <td>0</td>\n",
       "      <td>0.573</td>\n",
       "    </tr>\n",
       "    <tr>\n",
       "      <th>503</th>\n",
       "      <td>0</td>\n",
       "      <td>0.573</td>\n",
       "    </tr>\n",
       "    <tr>\n",
       "      <th>504</th>\n",
       "      <td>0</td>\n",
       "      <td>0.573</td>\n",
       "    </tr>\n",
       "    <tr>\n",
       "      <th>505</th>\n",
       "      <td>0</td>\n",
       "      <td>0.573</td>\n",
       "    </tr>\n",
       "  </tbody>\n",
       "</table>\n",
       "<p>506 rows × 2 columns</p>\n",
       "</div>"
      ],
      "text/plain": [
       "     chas    nox\n",
       "0       0  0.538\n",
       "1       0  0.469\n",
       "2       0  0.469\n",
       "3       0  0.458\n",
       "4       0  0.458\n",
       "..    ...    ...\n",
       "501     0  0.573\n",
       "502     0  0.573\n",
       "503     0  0.573\n",
       "504     0  0.573\n",
       "505     0  0.573\n",
       "\n",
       "[506 rows x 2 columns]"
      ]
     },
     "execution_count": 78,
     "metadata": {},
     "output_type": "execute_result"
    }
   ],
   "source": [
    "X.iloc[:, 2:4]"
   ]
  },
  {
   "cell_type": "markdown",
   "id": "e279f278",
   "metadata": {},
   "source": [
    "Your answer:\n",
    "\n",
    "~~~\n",
    "Please write your answer in full sentences.\n",
    "\n",
    "Lasso remove the third and fourth variable: chas, nox\n",
    "\n",
    "~~~\n",
    "\n",
    "\n",
    "\n",
    "~~~"
   ]
  },
  {
   "cell_type": "markdown",
   "id": "d0dd42cd",
   "metadata": {},
   "source": [
    "## Additional Material"
   ]
  },
  {
   "cell_type": "markdown",
   "id": "fb94ff4c",
   "metadata": {},
   "source": [
    "### [Advanced] Regularized Regression using Predictive Modeling Platforms in R"
   ]
  },
  {
   "cell_type": "markdown",
   "id": "5fc4edf9",
   "metadata": {},
   "source": [
    "#### scikit-learn\n",
    "\n",
    "Sklearn is probably the goto for most of what you will do on your computer.\n",
    "Many ways of doing the parameter tuning is described in the lab for your ISLP textbook."
   ]
  },
  {
   "cell_type": "code",
   "execution_count": 34,
   "id": "2b25cc43",
   "metadata": {
    "Rmd_chunk_options": "echo=TRUE",
    "kernel": "Python3",
    "tags": [
     "report_cell"
    ]
   },
   "outputs": [],
   "source": [
    "from sklearn.model_selection import train_test_split\n",
    "# split the data\n",
    "X_train0, X_test, y_train0, y_test = train_test_split(ames_raw.loc[:,ames_raw.columns != \"SalePrice\"], ames_raw.loc[:,\"SalePrice\"], test_size=0.33, random_state=42)\n",
    "\n",
    "X_train, X_val, y_train, y_val = train_test_split( X_train0, y_train0, test_size=0.25, random_state=11)\n",
    "\n",
    "train_df = pd.concat([X_train, y_train], axis=1)\n",
    "valid_df = pd.concat([X_val, y_val], axis=1)\n",
    "test_df = pd.concat([X_test, y_test], axis=1)"
   ]
  },
  {
   "cell_type": "markdown",
   "id": "bb9845e3",
   "metadata": {},
   "source": [
    "#### PySpark\n",
    "\n",
    "[Apache Spark](https://spark.apache.org/docs/3.1.3/api/python/index.html) is a popular large data handling platform.  Over the years, they built Machine Learning capabilities in MLlib.\n",
    "https://www.machinelearningplus.com/pyspark/pyspark-ridge-regression/"
   ]
  },
  {
   "cell_type": "code",
   "execution_count": 35,
   "id": "0f739d37",
   "metadata": {
    "Rmd_chunk_options": "eval=FALSE, echo=TRUE",
    "kernel": "Python3",
    "tags": [
     "report_cell"
    ]
   },
   "outputs": [],
   "source": [
    "import pyspark\n",
    "import os\n",
    "os.environ[\"PYARROW_IGNORE_TIMEZONE\"] = \"1\"\n",
    "import pyspark.pandas as ps\n",
    "from pyspark.sql import SparkSession\n",
    "from pyspark.ml.regression import LinearRegression\n",
    "from pyspark.ml.linalg import Vectors\n",
    "from pyspark.ml.feature import VectorAssembler\n",
    "from pyspark.ml.evaluation import RegressionEvaluator\n",
    "from pyspark.ml.tuning import CrossValidator, ParamGridBuilder\n",
    "\n",
    "import tempfile\n",
    "from ISLP import load_data"
   ]
  },
  {
   "cell_type": "code",
   "execution_count": null,
   "id": "61f0f46b",
   "metadata": {
    "Rmd_chunk_options": "eval=FALSE, echo=TRUE",
    "kernel": "Python3",
    "tags": [
     "report_cell"
    ]
   },
   "outputs": [
    {
     "name": "stderr",
     "output_type": "stream",
     "text": [
      "Setting default log level to \"WARN\".\n",
      "To adjust logging level use sc.setLogLevel(newLevel). For SparkR, use setLogLevel(newLevel).\n",
      "24/01/13 12:55:58 WARN NativeCodeLoader: Unable to load native-hadoop library for your platform... using builtin-java classes where applicable\n"
     ]
    }
   ],
   "source": [
    "spark = SparkSession.builder.appName(\"Ridge_test\").getOrCreate()"
   ]
  },
  {
   "cell_type": "code",
   "execution_count": null,
   "id": "d2bf248c",
   "metadata": {
    "Rmd_chunk_options": "eval=FALSE, echo=TRUE",
    "kernel": "Python3",
    "tags": [
     "report_cell"
    ]
   },
   "outputs": [],
   "source": [
    "Boston = load_data(\"Boston\")\n",
    "dataset = spark.createDataFrame(Boston)\n",
    "from pyspark.ml.feature import VectorAssembler\n",
    "# Define the feature and label columns & Assemble the feature vector\n",
    "assembler = VectorAssembler(\n",
    "    inputCols=[\"crim\", \"zn\", \"indus\", \"chas\", \"nox\", \"rm\", \"age\", \"dis\", \"rad\", \"tax\", \"ptratio\",\"lstat\"],\n",
    "    outputCol=\"features\")\n",
    "\n",
    "dataset = assembler.transform(dataset)\n",
    "final_data = dataset.select(\"features\", \"medv\")\n",
    "\n",
    "# Split the data into training and test sets\n",
    "train_data, test_data = final_data.randomSplit([0.8, 0.2], seed=42)\n",
    "\n",
    "ridge_regression = LinearRegression(featuresCol=\"features\", labelCol=\"medv\", elasticNetParam=0)\n",
    "# Define the hyperparameter grid\n",
    "param_grid = ParamGridBuilder() \\\n",
    "    .addGrid(ridge_regression.regParam, [0.001, 0.01, 0.1, 1.0]) \\\n",
    "    .build()\n",
    "\n",
    "# Create the cross-validator\n",
    "evaluator = RegressionEvaluator(predictionCol=\"prediction\", labelCol= \"medv\", metricName=\"rmse\")\n",
    "cross_validator = CrossValidator(estimator=ridge_regression,\n",
    "                                 estimatorParamMaps=param_grid,\n",
    "                                 evaluator=evaluator,\n",
    "                                 numFolds=5)\n",
    "\n",
    "# Train the model with the best hyperparameters\n",
    "cv_model = cross_validator.fit(train_data)\n",
    "ridge_model = cv_model.bestModel\n",
    "\n",
    "coefficients = ridge_model.coefficients\n",
    "intercept = ridge_model.intercept\n",
    "\n",
    "print(\"Coefficients: \", coefficients)\n",
    "print(\"Intercept: {:.3f}\".format(intercept))\n",
    "# Make predictions on the test data\n",
    "predictions = ridge_model.transform(test_data)\n",
    "\n",
    "# Evaluate the model\n",
    "rmse = evaluator.evaluate(predictions)\n",
    "r2 = RegressionEvaluator(predictionCol=\"prediction\", labelCol=\"medv\", metricName=\"r2\").evaluate(predictions)\n",
    "\n",
    "print(\"Root Mean Squared Error (RMSE):\", rmse)\n",
    "print(\"Coefficient of Determination (R2):\", r2)"
   ]
  },
  {
   "cell_type": "markdown",
   "id": "2430601f",
   "metadata": {},
   "source": [
    "##### Save and load the model"
   ]
  },
  {
   "cell_type": "code",
   "execution_count": null,
   "id": "116c1daa",
   "metadata": {
    "Rmd_chunk_options": "eval=FALSE, echo=TRUE",
    "kernel": "Python3",
    "tags": [
     "report_cell"
    ]
   },
   "outputs": [],
   "source": [
    "# Save the model\n",
    "ridge_model.save(\"ridge_model\")\n",
    "\n",
    "# Load the model\n",
    "from pyspark.ml.regression import LinearRegressionModel\n",
    "loaded_model = LinearRegressionModel.load(\"ridge_model\")"
   ]
  },
  {
   "cell_type": "markdown",
   "id": "87f64e05",
   "metadata": {},
   "source": [
    "##### Stop pyspark"
   ]
  },
  {
   "cell_type": "code",
   "execution_count": null,
   "id": "2303090b",
   "metadata": {
    "Rmd_chunk_options": "eval=FALSE, echo=TRUE",
    "kernel": "Python3",
    "tags": [
     "report_cell"
    ]
   },
   "outputs": [],
   "source": [
    "spark.stop()"
   ]
  },
  {
   "cell_type": "markdown",
   "id": "dca3718d",
   "metadata": {},
   "source": [
    "#### Regularized regression using h2o"
   ]
  },
  {
   "cell_type": "code",
   "execution_count": null,
   "id": "80ceb054",
   "metadata": {
    "Rmd_chunk_options": "echo=show_code,eval=FALSE",
    "kernel": "Python3",
    "tags": [
     "report_cell"
    ]
   },
   "outputs": [],
   "source": [
    "# load packages and data\n",
    "import h2o\n",
    "localH2O = h2o.init(nthreads = -1, max_mem_size=\"4g\")\n",
    "\n",
    "train_hf = h2o.H2OFrame(train_df)\n",
    "valid_hf = h2o.H2OFrame(valid_df)\n",
    "test_hf = h2o.H2OFrame(test_df)"
   ]
  },
  {
   "cell_type": "markdown",
   "id": "72192bbb",
   "metadata": {},
   "source": [
    "##### Fitting Ridge regression with grid search\n",
    "\n",
    "H2O has a few hyperparameter search defined.\n",
    "https://docs.h2o.ai/h2o/latest-stable/h2o-docs/grid-search.html#grid-search-in-python"
   ]
  },
  {
   "cell_type": "code",
   "execution_count": null,
   "id": "dcc8cb8e",
   "metadata": {
    "Rmd_chunk_options": "h2o_fit_glm,echo=show_code,eval=FALSE",
    "kernel": "Python3",
    "tags": [
     "report_cell"
    ]
   },
   "outputs": [],
   "source": [
    "from h2o.estimators.glm import H2OGeneralizedLinearEstimator\n",
    "from h2o.grid.grid_search import H2OGridSearch\n",
    "\n",
    "predictors = [\"SalePrice\",\"Lot Area\",\"Gr Liv Area\",\"Full Bath\"]\n",
    "response = \"SalePrice\"\n",
    "glm_h2o_model = H2OGeneralizedLinearEstimator(family=\"gaussian\",\n",
    "                                      lambda_=0,\n",
    "                                      compute_p_values=True,\n",
    "                                      nfolds = 5)\n",
    "glm_h2o_model.train(x=predictors, y=response, training_frame=train_hf)\n",
    "\n",
    "\n",
    "hyper_params = {'alpha': [0,0.5,1],\n",
    "                  'lambda':[10**-7,10**-6,10**-5,10**-4]}\n",
    "\n",
    "# Train and validate a cartesian grid of GBMs\n",
    "glm_grid1 = H2OGridSearch(model=H2OGeneralizedLinearEstimator,\n",
    "                          grid_id='glm_grid1',\n",
    "                          hyper_params=hyper_params)\n",
    "glm_grid1.train(x=predictors, y=response,\n",
    "                training_frame=train_hf,\n",
    "                validation_frame=valid_hf,\n",
    "                seed=1)\n",
    "\n",
    "# Get the grid results, sorted by validation AUC\n",
    "glm_gridperf1 = glm_grid1.get_grid(sort_by='r2', decreasing=True)\n",
    "glm_gridperf1\n",
    "\n",
    "# Grab the top GBM model, chosen by validation AUC\n",
    "best_glm1 = glm_gridperf1.models[0]\n",
    "\n",
    "# Now let's evaluate the model performance on a test set\n",
    "# so we get an honest estimate of top model performance\n",
    "best_glm_perf1 = best_glm1.model_performance(test_hf)\n",
    "\n",
    "best_glm_perf1.mse()\n",
    "# 0.7781778619721595\n",
    "\n",
    "#prediction=predict(best_model,newdata = test_hf)\n",
    "#h2o.exportFile(prediction, \"/tmp/pred.csv\", force = TRUE) #export prediction result as a file\n"
   ]
  },
  {
   "cell_type": "code",
   "execution_count": null,
   "id": "89edc326",
   "metadata": {},
   "outputs": [],
   "source": [
    "h2o.shutdown()"
   ]
  },
  {
   "cell_type": "markdown",
   "id": "09d687c7",
   "metadata": {},
   "source": [
    "## Advanced Content"
   ]
  },
  {
   "cell_type": "markdown",
   "id": "e2eab0d3",
   "metadata": {},
   "source": [
    "### Stein's Estimator and shrinkage\n",
    "So far, we have seen how least squares perform well, even in cases where the true model is not linear.  Then, the natural question we may ask is, can we find an estimator that is better than least squares?  Which <cite data-cite=\"16598153/A59N9N5V\"></cite> worked on, and later <cite data-cite=\"16598153/M2VTBEWL\"></cite> improved upon. It is called the James-Stein estimator or just Stein's estimator.\n",
    "\n",
    "Stein's estimator is defined as \\footnote{In general Stein estimator is $(1-\\alpha)\\hat{\\boldsymbol{\\beta}}_{LS}$ for some positive number $\\alpha$ less than 1.  }\n",
    "$$\\tilde{\\boldsymbol{\\beta}}_{stein}=\\left(1-\\frac{(p-2)\\sigma^2}{\\parallel \\hat{\\boldsymbol{\\beta}}_{LS}\\parallel^2}\\right)\\hat{\\boldsymbol{\\beta}}_{LS}$$.\n",
    "\n",
    "According to Stein, for $p>2$\n",
    "\\begin{eqnarray*}\n",
    "E\\parallel \\tilde{\\boldsymbol{\\beta}}_{stein} - \\boldsymbol{\\beta}_{best}\\parallel^2\\leq E\\parallel \\tilde{\\boldsymbol{\\beta}}_{LS} -\\boldsymbol{\\beta}_{best}\\parallel^2\n",
    "\\end{eqnarray*}\n",
    "\n",
    "To put it in simple English, the estimator obtained by shirking the LS estimator by $\\left(1-\\frac{(p-2)\\sigma^2}{\\parallel \\hat{\\boldsymbol{\\beta}}_{LS}\\parallel^2}\\right)$ is a better estimator than LS.  This is puzzling if you think carefully about it, given that LS is BLUE. Also, there is not even a tuning parameter. The only thing that seems to matter is $\\frac{\\sigma^2}{\\parallel \\hat{\\boldsymbol{\\beta}}_{LS}\\parallel^2}$.  The proof is not hard; you can find it at the bottom.  But the important takeaway message is that we can do better than LS by shrinking the estimates."
   ]
  },
  {
   "cell_type": "markdown",
   "id": "f2cb9d72",
   "metadata": {},
   "source": [
    "### Methods to Control Model Complexity\n",
    "\n",
    "Regression is used for a variety of problems\n",
    "  - prediction: stock price in the future\n",
    "\t- estimation: denoising, smoothing\n",
    "\t- understanding: figure out what variable(s) are important\n",
    "\n",
    "A critical characteristic in all situations is that we want a generalizable model. Thus, we often prefer a simpler model over a complex model (why?).  This principle is called Occam's razor.  (Note that a simpler model does not guarantee generalizability. )\n",
    "What methods are available for us to control the model complexity?\n",
    "\n",
    "For orthogonal $X_j$ $j=1,\\cdots,p$, we can use the shrinkage method as we saw in the Stein estimator $$\\tilde{\\boldsymbol{\\beta}}=\\hat{\\boldsymbol{\\beta}}_{LS}\\left(1-\\frac{(p-2)\\sigma^2}{\\parallel\\hat{\\boldsymbol{\\beta}}_{LS}\\parallel^2}\\right)$$\n",
    "\n",
    "Another method is to use a threshold.  There is hard thresholding, where we set all the coefficients that do not pass a certain threshold to zero.\n",
    "\\begin{eqnarray}\n",
    "\\tilde{\\beta}_j=\\hat{\\beta}_j1_{\\hat{\\beta}_j>\\lambda}=\\left\\{ \\begin{array}{ll}\n",
    "\\hat{\\beta}_j & \\mid\\hat{\\beta}_j\\mid > \\lambda\\\\\n",
    "0 &\\verb|otherwise|\\\\\n",
    "\\end{array}\n",
    "\\right.\n",
    "\\end{eqnarray}\n",
    "An alternative is soft thresholding, where we combine shrinkage with hard thresholding.\n",
    "\\begin{eqnarray}\n",
    "\\tilde{\\beta}_j=sgn(\\hat{\\beta}_j)[\\mid\\hat{\\beta}_j\\mid-\\lambda]_{+}=\\left\\{ \\begin{array}{ll}\n",
    "\\tilde{\\beta}_j=\\hat{\\beta}_j-\\lambda & \\verb|if |\\mid\\hat{\\beta}_j\\mid > \\lambda\\\\\n",
    "\\tilde{\\beta}_j=0 & \\verb|if |\\mid\\hat{\\beta}_j\\mid \\leq \\lambda \\\\\n",
    "\\end{array}\n",
    "\\right.\n",
    "\\end{eqnarray}\n",
    "\n",
    "But what can we do in a more general case where $X$ is not orthogonal or $p$ is bigger than $n$?  One popular thing nowadays is putting a penalty or constraint on the model complexity.  The two most popular ways are the subset selection and shrinkage methods."
   ]
  },
  {
   "cell_type": "markdown",
   "id": "765d790a",
   "metadata": {},
   "source": [
    "#### subset selection\n",
    "\n",
    "Subset selection is most commonly done by restricting the number of none zero $\\tilde{\\beta}_j$ to be less than some constant $k$.  But solving that is unfeasible when $p$ is large since it is an N-P hard problem.   In the orthogonal $X$ situation, ordering the $\\tilde{\\beta}_j$ and choosing $k$ largest subset selection is equivalent to hard thresholding."
   ]
  },
  {
   "cell_type": "markdown",
   "id": "4b26b67a",
   "metadata": {},
   "source": [
    "#### Shrinkage\n",
    "\n",
    "For general $X$, we can also perform shrinkage. The idea is to minimize $\\parallel \\mathbf{y}-\\mathbf{X}\\boldsymbol{\\beta}\\parallel^2$ subject to some constraint.  When we set the constraint as $\\parallel\\boldsymbol{\\beta}\\parallel^2<t$, the result is called the ridge regression.  Similarly, if we choose the constraint as $\\mid\\boldsymbol{\\beta}\\mid<t$, then the result is known as the LASSO (Least Absolute Shrinkage and Selection Operator) regression.  It turns out that this constrained minimization problem can be generalized to minimizing an objective function of the form $\\parallel \\mathbf{y}-\\mathbf{X}\\boldsymbol{\\beta} \\parallel^2+\\lambda \\parallel \\boldsymbol{\\beta} \\parallel_{L_p}$ where $\\parallel \\parallel_{L_p}$ is called the $L_p$ norm and $\\lambda$ is the complexity parameter that controls the amount of shrinkage."
   ]
  },
  {
   "cell_type": "markdown",
   "id": "8a884318",
   "metadata": {},
   "source": [
    "##### Ridge Regression\n",
    "\n",
    "Ridge Regression is used when you don't have collinearity in your predictor variables.  We can consider it a constraint optimization under the $l_2$ norm or shrinkage estimation. So, for a general setting:\n",
    "\n",
    "observation  | predictor 1     | predictor 2     | $\\cdots$ | predictor p     | response\n",
    "-------------|-----------------|-----------------|----------|-----------------|----------\n",
    "1            | $x_{11}$        | $x_{12}$        | $\\cdots$ | $x_{1p}$        | $y_1$\n",
    "2            | $x_{21}$        | $x_{22}$        | $\\cdots$ | $x_{2p}$        | $y_2$\n",
    "$\\vdots$     | $\\vdots$        | $\\vdots$        | $\\ddots$ | $\\vdots$        | $\\vdots$\n",
    "n            | $x_{n1}$        | $x_{n2}$        | $\\cdots$ | $x_{np}$        | $y_n$\n",
    "&nbsp;       | $\\mathbf{X}_{1}$| $\\mathbf{X}_{2}$| $\\cdots$ | $\\mathbf{X}_{p}$| $\\mathbf{y}$\n",
    "\n",
    "\n",
    "$$\n",
    "\\mathbf{X}=\\left[\n",
    "\\begin{array}{cccc}\n",
    "\\mathbf{X}_{1}&\\mathbf{X}_{2}&\\cdots &\\mathbf{X}_{p} \\\\\n",
    "\\end{array}\n",
    "\\right]\\verb|, and |\n",
    "\\boldsymbol{\\beta}=\\left[\n",
    "\\begin{array}{c}\n",
    "\\beta_{1} \\\\\n",
    "\\vdots\\\\\n",
    "\\beta_{p} \\\\\n",
    "\\end{array}\n",
    "\\right]\n",
    "$$\n",
    "\n",
    " To find the ridge regression estimate, we want to minimize the objective function of form $\\left(\\parallel \\mathbf{y}-\\mathbf{X}\\boldsymbol{\\beta} \\parallel^2+\\lambda\\parallel \\boldsymbol{\\beta}\\parallel^2\\right)$.  As constrained optimization, we want to minimize $\\parallel \\mathbf{y}-\\mathbf{X}\\beta \\parallel^2$ subject to $\\parallel \\boldsymbol{\\beta} \\parallel^2 \\leq t$ constraint for some constant $t$.\n",
    "\n",
    "\n",
    "\n",
    " Imagine a contour defined by $\\parallel \\mathbf{y}-\\mathbf{X}\\boldsymbol{\\beta} \\parallel^2$ with its lowest at $\\hat{\\boldsymbol{\\beta}}_{LS}$.  Now imagine a circle around the origin where the diameter is defined by a tuning parameter $t$ such that it satisfies $\\parallel \\boldsymbol{\\beta} \\parallel^2 <t$.  Our solution can only be inside this circle.  Without any constraint on $t$, i.e. $t=\\infty$ we will get $\\hat{\\boldsymbol{\\beta}}_{LS}$ as an estimate that minimizes $\\parallel \\mathbf{y}-\\mathbf{X}\\beta \\parallel^2$. But as t gets smaller, we depart from our $\\hat{\\boldsymbol{\\beta}}_{LS}$ since the solution has to be within the circle.  Thus, we can see that the solution we want is on the circle closest to $\\hat{\\boldsymbol{\\beta}}_{LS}$, which is the point circle that touches the ellipse.  Equivalently, our solution can be thought of as shrinkage.  As t gets smaller, we are shrinking our $\\hat{\\boldsymbol{\\beta}}_{LS}$  toward zero on the diagonal line from $\\hat{\\boldsymbol{\\beta}}_{LS}$ to the origin.\n",
    "\n",
    " ![Ridge Image](Images/Ridge.png)\n",
    "\n",
    "\n",
    "So lets solve for $\\parallel \\mathbf{y}-\\mathbf{X}\\boldsymbol{\\beta} \\parallel^2+\\lambda \\parallel \\boldsymbol{\\beta} \\parallel^2$\n",
    "\\begin{eqnarray*}\n",
    "\\frac{\\partial }{\\partial \\boldsymbol{\\beta}}\\parallel \\mathbf{y}-\\mathbf{X}\\boldsymbol{\\beta} \\parallel^2+\\lambda \\parallel \\boldsymbol{\\beta} \\parallel^2&=&-2( \\mathbf{y}-\\mathbf{X}\\boldsymbol{\\beta})X +2\\lambda\\boldsymbol{\\beta}\\\\\n",
    "&\\Rightarrow&  -\\mathbf{y}^T\\mathbf{X}+\\hat{\\boldsymbol{\\beta}}\\mathbf{X}^T\\mathbf{X} + \\lambda\\hat{\\boldsymbol{\\beta}}=0\\\\\n",
    "&=& \\hat{\\boldsymbol{\\beta}}(\\mathbf{X}^T\\mathbf{X} +\\lambda I)=\\mathbf{y}^TX\\\\\n",
    "&=& \\hat{\\boldsymbol{\\beta}}=(\\mathbf{X}^T\\mathbf{X} +\\lambda I)^{-1}\\mathbf{y}^TX\\\\\n",
    "\\end{eqnarray*}\n",
    "Hence we see $\\hat{\\boldsymbol{\\beta}}_{pythonidge}=(\\mathbf{X}^T\\mathbf{X} +\\lambda \\mathbf{I})^{-1}\\mathbf{y}^T\\mathbf{X}$."
   ]
  },
  {
   "cell_type": "markdown",
   "id": "5f1a0ebd",
   "metadata": {},
   "source": [
    "##### LASSO (Least Absolute Shrinkage and Selection Operator)\n",
    "\n",
    "The idea of LASSO is similar to Ridge Regression. Using the same setting as before, the only difference is we want to minimize an objective function of the form $\\left(\\parallel \\mathbf{y}-\\mathbf{X}\\boldsymbol{\\beta} \\parallel^2+\\lambda\\mid \\boldsymbol{\\beta}\\mid\\right)$ or equivalently perform constraint minimization of $\\parallel \\mathbf{y}-\\mathbf{X}\\boldsymbol{\\beta} \\parallel^2$ subject to $\\mid \\boldsymbol{\\beta} \\mid\\leq t$ constraint ($\\mid \\boldsymbol{\\beta} \\mid=\\sum^p_{j=1}\\mid \\beta_j\\mid$).\n",
    "\n",
    "Geometrically speaking (for $p=2$ case) we want to find $\\hat{\\boldsymbol{\\beta}}$ that is closest to $\\hat{\\boldsymbol{\\beta}}_{LS}$ within the diamond shaped region that is $\\mid \\boldsymbol{\\beta} \\mid<t$.\n",
    "Unlike $L_2$ norm, $L_1$ norm has corners and edges that touch the contour of $\\parallel \\mathbf{y}-\\mathbf{X}\\boldsymbol{\\beta} \\parallel^2$ first most of the time.  This acts as the variable selector in high-dimensional space.  Thus, when we look at the solution path of LASSO, we see some coefficients take on the value of zero.\n",
    "\n",
    " ![Lasso Image](Images/Lasso.png)\n",
    "\n",
    "As $t$ increases, we gradually see more and more $\\boldsymbol{\\beta}$s coming into our model.  And this goes on until all $t$ is so big that the diamond shaped region includes $\\hat{\\boldsymbol{\\beta}}_{LS}$, in which case, all the estimates of $\\hat{\\boldsymbol{\\beta}}$ becomes $\\hat{\\boldsymbol{\\beta}}_{LS}$.  Or conversely, if you decrease your $t$, to zero your estimated  $\\hat{\\boldsymbol{\\beta}}$ starts to get shrunk toward zero from $\\hat{\\boldsymbol{\\beta}}_{LS}$.  So you can see that we are doing shrinkage estimation. Then, we want to choose $t$ to get the sparsest model with the lowest cross-validation error.\n",
    "\n",
    " ![Lasso Path Image](Images/Lasso_path.png)"
   ]
  },
  {
   "cell_type": "markdown",
   "id": "a58b2edd",
   "metadata": {},
   "source": [
    "### Proofs"
   ]
  },
  {
   "cell_type": "markdown",
   "id": "f6fc027e",
   "metadata": {},
   "source": [
    "#### Stein's lemma\n",
    "We first need Stein's lemma.`\n",
    "\\noindent{\\bf Stein's Lemma}\n",
    "According to Stein's lemma, for $Z\\sim N\\left(\\mu,\\sigma^2\\right)$, $E\\left[(z-\\mu)g(z)\\right]=\\sigma^2E\\left[g'(z)\\right]$.\n",
    "\\subsubsection*{proof}\n",
    "\\begin{eqnarray*}\n",
    "E\\left[(z-\\mu)g(z)\\right]&=&\\int(z-\\mu)g(z)\\frac{1}{\\sqrt{2\\pi\\sigma^2}}e^{\\frac{-(z-\\mu)^2}{2\\sigma^2}}dz\\\\\n",
    "&=&-\\sigma^2g(z)\\frac{1}{\\sqrt{2\\pi\\sigma^2}}e^{\\frac{-(z-\\mu)^2}{2\\sigma^2}}\\Bigr|^{\\infty}_{-\\infty}+\\sigma^2\\int g'(z)\\frac{1}{\\sqrt{2\\pi\\sigma^2}}e^{\\frac{-(z-\\mu)^2}{2\\sigma^2}}\\\\\n",
    "&=&\\sigma^2E\\left[g'(z)\\right]\n",
    "\\end{eqnarray*}"
   ]
  },
  {
   "cell_type": "markdown",
   "id": "123d53ca",
   "metadata": {},
   "source": [
    "#### Proof: Stein's estimator outperforms LS\n",
    "\n",
    "We are ready to prove that Stein's estimator outperforms the least square's estimate.  We will denote for the simplicity $\\hat{\\boldsymbol{\\beta}}_{LS} = \\boldsymbol{\\beta}$ and $\\boldsymbol{\\beta}_{best} =\\boldsymbol{\\theta}$.\n",
    "\\begin{eqnarray*}\n",
    "E\\parallel \\boldsymbol{\\beta}-\\boldsymbol{\\theta} \\parallel ^2&=&E\\left[\\sum^p_{i=1}\\left( \\beta_i-\\theta_i \\right)^2\\right]\\\\\n",
    "&=&p\\sigma^2\n",
    "\\end{eqnarray*}\n",
    "\\begin{eqnarray*}\n",
    "E\\left[\\Biggl|\\Biggl|\\left(1-\\frac{(p-2)\\sigma^2}{\\parallel \\boldsymbol{\\beta}\\parallel^2}\\right)\\boldsymbol{\\beta} -\\boldsymbol{\\theta} \\Biggr|\\Biggr| ^2\\right]&=&E\\left[\\Biggl|\\Biggl| (\\boldsymbol{\\beta}-\\boldsymbol{\\theta})-\\frac{(p-2)\\sigma^2}{\\parallel \\boldsymbol{\\beta}\\parallel^2}\\boldsymbol{\\beta}\\Biggr|\\Biggr|^2\\right]\\\\\n",
    "&=&E\\parallel\\boldsymbol{\\beta}-\\boldsymbol{\\theta}\\parallel^2+E\\left[\\frac{(p-2)^2\\sigma^4}{\\parallel \\boldsymbol{\\beta}\\parallel^2}\\right]-2E\\left[ \\langle \\boldsymbol{\\beta}-\\boldsymbol{\\theta}, \\frac{(p-2)\\sigma^2}{\\parallel \\boldsymbol{\\beta}\\parallel^2}\\boldsymbol{\\beta} \\rangle \\right]=(*)\\\\\n",
    "\\end{eqnarray*}\n",
    "Since $E\\left[ \\langle \\boldsymbol{\\beta}-\\theta, \\frac{(p-2)\\sigma^2}{\\parallel \\boldsymbol{\\beta}\\parallel^2}\\boldsymbol{\\beta} \\rangle \\right]$ can be simplified as follows\n",
    "\\begin{eqnarray*}\n",
    "E\\left[\\sum^p_{i=1}(\\boldsymbol{\\beta}_i-\\theta_i)\\frac{(p-2)\\sigma^2}{\\parallel \\boldsymbol{\\beta}\\parallel^2}\\boldsymbol{\\beta}_i \\right] &=& E\\left[\\sum^p_{i=1}(\\boldsymbol{\\beta}_i-\\theta_i)\\frac{(p-2)\\sigma^2}{ \\boldsymbol{\\beta}_i^2+\\sum^p_{j\\neq i} \\boldsymbol{\\beta}_j^2}\\boldsymbol{\\beta}_i \\right]\\\\\n",
    "\\end{eqnarray*}\n",
    "Letting $\\frac{(p-2)\\sigma^2}{ \\boldsymbol{\\beta}_i^2+\\sum^p_{j\\neq i} \\boldsymbol{\\beta}_j^2}\\boldsymbol{\\beta}_i=g(x_i)$, we can use Stein's lemma. Hence\n",
    "\\begin{eqnarray*}\n",
    " E\\left[\\sum^p_{i=1}(\\beta_i-\\theta_i)\\frac{(p-2)\\sigma^2}{ \\beta_i^2+\\sum^p_{j\\neq i} \\beta_j^2}\\beta_i \\right]&=& \\sigma^2\\sum^p_{i=1}E\\left[\\left(\\frac{(p-2)\\sigma^2}{ \\beta_i^2+\\sum^p_{j\\neq i} \\beta_j^2}\\beta_i \\right)'\\right]\\\\\n",
    "&=&\\sigma^2\\sum^p_{i=1} E\\left[\\frac{(p-2)\\sigma^2}{ \\parallel \\boldsymbol{\\beta}\\parallel^2}- \\frac{(p-2)\\sigma^2 2\\beta_i^2}{ \\parallel \\boldsymbol{\\beta}\\parallel^2}\\right]\\\\\n",
    "&=&\\sigma^2E\\left[\\frac{p(p-2)\\sigma^2}{ \\parallel \\boldsymbol{\\beta}\\parallel^2}- \\frac{2(p-2)\\sigma^2}{ \\parallel \\boldsymbol{\\beta}\\parallel^2}\\right]\\\\\n",
    "&=&E\\left[\\frac{(p-2)^2\\sigma^4}{\\parallel \\boldsymbol{\\beta}\\parallel^2}\\right]\n",
    "\\end{eqnarray*}\n",
    "\n",
    "Therefore:\n",
    "\\begin{eqnarray*}\n",
    "(*)&=&E\\left[\\parallel\\boldsymbol{\\beta}-\\boldsymbol{\\theta}\\parallel^2+\\frac{(p-2)^2\\sigma^4}{\\parallel \\boldsymbol{\\beta}\\parallel^2}-2\\frac{(p-2)^2\\sigma^4}{\\parallel \\boldsymbol{\\beta}\\parallel^2}\\right]\\\\\n",
    "&=&E\\left[\\parallel\\boldsymbol{\\beta}-\\boldsymbol{\\theta}\\parallel^2-\\frac{(p-2)^2\\sigma^4}{\\parallel \\boldsymbol{\\beta}\\parallel^2}\\right]\\leq E\\left[\\parallel\\boldsymbol{\\beta}-\\boldsymbol{\\theta}\\parallel^2\\right] = p\\sigma^2\n",
    "\\end{eqnarray*}"
   ]
  },
  {
   "cell_type": "markdown",
   "id": "a7c1bd28",
   "metadata": {},
   "source": [
    "### Reference"
   ]
  }
 ],
 "metadata": {
  "Rmd_chunk_options": {
   "author": "Your Name",
   "bibliography": "lecture.bib",
   "date": "2024-01-05",
   "output": "html_document",
   "title": "Regularization"
  },
  "cite2c": {
   "citations": {
    "16598153/A59N9N5V": {
     "author": [
      {
       "family": "Stein",
       "given": "Charles"
      },
      {
       "family": "others",
       "given": ""
      }
     ],
     "container-title": "Proceedings of the Third Berkeley symposium on mathematical statistics and probability",
     "issued": {
      "date-parts": [
       [
        1956
       ]
      ]
     },
     "note": "Issue: 399",
     "page": "197–206",
     "title": "Inadmissibility of the usual estimator for the mean of a multivariate normal distribution",
     "type": "paper-conference",
     "volume": "1"
    },
    "16598153/M2VTBEWL": {
     "author": [
      {
       "family": "James",
       "given": "William"
      },
      {
       "family": "Stein",
       "given": "Charles"
      }
     ],
     "container-title": "Proceedings of the fourth Berkeley symposium on mathematical statistics and probability",
     "issued": {
      "date-parts": [
       [
        1961
       ]
      ]
     },
     "note": "Issue: 1961",
     "page": "361–379",
     "title": "Estimation with quadratic loss",
     "type": "paper-conference",
     "volume": "1"
    }
   }
  },
  "kernelspec": {
   "display_name": "Python 3 (ipykernel)",
   "language": "python",
   "name": "python3"
  },
  "language_info": {
   "codemirror_mode": {
    "name": "ipython",
    "version": 3
   },
   "file_extension": ".py",
   "mimetype": "text/x-python",
   "name": "python",
   "nbconvert_exporter": "python",
   "pygments_lexer": "ipython3",
   "version": "3.9.7"
  },
  "sos": {
   "kernels": [
    [
     "SoS",
     "sos",
     "",
     ""
    ],
    [
     "R",
     "ir",
     "",
     ""
    ],
    [
     "css",
     "css",
     "",
     ""
    ],
    [
     "Python3",
     "ir",
     "",
     ""
    ],
    [
     "Markdown",
     "markdown",
     "",
     ""
    ]
   ]
  }
 },
 "nbformat": 4,
 "nbformat_minor": 5
}
